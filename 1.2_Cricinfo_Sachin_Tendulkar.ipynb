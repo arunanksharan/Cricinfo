{
 "cells": [
  {
   "cell_type": "code",
   "execution_count": 464,
   "metadata": {},
   "outputs": [],
   "source": [
    "# Import required libraries\n",
    "import requests\n",
    "import urllib.request\n",
    "import pandas as pd\n",
    "from bs4 import BeautifulSoup\n",
    "import matplotlib.pyplot as plt\n",
    "import matplotlib.axes\n",
    "import re\n",
    "import numpy as np\n",
    "import matplotlib.dates as mdates\n",
    "%matplotlib inline\n"
   ]
  },
  {
   "cell_type": "code",
   "execution_count": 465,
   "metadata": {},
   "outputs": [],
   "source": [
    "# url for scraping data\n",
    "url = \"http://stats.espncricinfo.com/ci/engine/player/35320.html?class=2;template=results;type=batting;view=innings;wrappertype=print\""
   ]
  },
  {
   "cell_type": "code",
   "execution_count": 466,
   "metadata": {
    "scrolled": false
   },
   "outputs": [],
   "source": [
    "# Creating class HTMLTableParser\n",
    "class HTMLTableParser:\n",
    "    \n",
    "    def parse_url(self, url):\n",
    "        response = requests.get(url)\n",
    "        soup = BeautifulSoup(response.text, 'lxml')\n",
    "        return [self.parse_html_table(table)\\\n",
    "               for table in soup.find_all('table')]\n",
    "    \n",
    "    def parse_html_table(self, table):\n",
    "        n_columns = 0\n",
    "        n_rows = 0\n",
    "        column_names = []\n",
    "        \n",
    "        # Find number of rows and columns and column titles.\n",
    "        for row in table.find_all('tr'):\n",
    "            #print('ROW', row)\n",
    "            td_tags = row.find_all('td')\n",
    "            #print('TD_TAGS', td_tags)\n",
    "            if len(td_tags) > 0:\n",
    "                n_rows += 1\n",
    "                #print('N_ROWS', n_rows)\n",
    "                if n_columns == 0:\n",
    "                    n_columns = len(td_tags)\n",
    "                    #print('N_COLUMNS', n_columns)\n",
    "            \n",
    "            th_tags = row.find_all('th')\n",
    "            if len(th_tags) > 0 & len(column_names) == 0:\n",
    "                for th in th_tags:\n",
    "                    #print('TH_TAGS', th)\n",
    "                    column_names.append(th.get_text())\n",
    "                    #print('COLUMN_NAMES', column_names)\n",
    "        \n",
    "        if len(column_names) > 0 and len(column_names) != n_columns:\n",
    "            raise Exception('Column titles do not match the number of columns!')\n",
    "            \n",
    "        columns = column_names if len(column_names) > 0 else range(0, n_columns)\n",
    "        df = pd.DataFrame(columns = columns, index = range(0, n_rows))\n",
    "        \n",
    "        row_marker = 0\n",
    "        for row in table.find_all('tr'):\n",
    "            #print('ROW:', row)\n",
    "            column_marker = 0\n",
    "            columns = row.find_all('td')\n",
    "            for column in columns:\n",
    "                #print('COLUMN:', column)\n",
    "                df.iat[row_marker, column_marker] = column.get_text()\n",
    "                column_marker += 1\n",
    "                #print('COLUMN_MARKER:', column_marker)\n",
    "            if len(columns) > 1:\n",
    "                row_marker += 1\n",
    "                #print('ROW_MARKER:', row_marker)\n",
    "        \n",
    "        return df"
   ]
  },
  {
   "cell_type": "code",
   "execution_count": 467,
   "metadata": {},
   "outputs": [],
   "source": [
    "parsed_tables_object = HTMLTableParser()\n",
    "parsed_tables = parsed_tables_object.parse_url(url)\n",
    "\n",
    "overall = parsed_tables[2]\n",
    "innings = parsed_tables[3]"
   ]
  },
  {
   "cell_type": "code",
   "execution_count": 468,
   "metadata": {},
   "outputs": [
    {
     "name": "stdout",
     "output_type": "stream",
     "text": [
      "<class 'pandas.core.frame.DataFrame'>\n",
      "RangeIndex: 1 entries, 0 to 0\n",
      "Data columns (total 15 columns):\n",
      "        1 non-null object\n",
      "Span    1 non-null object\n",
      "Mat     1 non-null object\n",
      "Inns    1 non-null object\n",
      "NO      1 non-null object\n",
      "Runs    1 non-null object\n",
      "HS      1 non-null object\n",
      "Ave     1 non-null object\n",
      "BF      1 non-null object\n",
      "SR      1 non-null object\n",
      "100     1 non-null object\n",
      "50      1 non-null object\n",
      "0       1 non-null object\n",
      "4s      1 non-null object\n",
      "6s      1 non-null object\n",
      "dtypes: object(15)\n",
      "memory usage: 200.0+ bytes\n"
     ]
    }
   ],
   "source": [
    "overall.info()"
   ]
  },
  {
   "cell_type": "code",
   "execution_count": 469,
   "metadata": {},
   "outputs": [
    {
     "data": {
      "text/html": [
       "<div>\n",
       "<style scoped>\n",
       "    .dataframe tbody tr th:only-of-type {\n",
       "        vertical-align: middle;\n",
       "    }\n",
       "\n",
       "    .dataframe tbody tr th {\n",
       "        vertical-align: top;\n",
       "    }\n",
       "\n",
       "    .dataframe thead th {\n",
       "        text-align: right;\n",
       "    }\n",
       "</style>\n",
       "<table border=\"1\" class=\"dataframe\">\n",
       "  <thead>\n",
       "    <tr style=\"text-align: right;\">\n",
       "      <th></th>\n",
       "      <th>Span</th>\n",
       "      <th>Mat</th>\n",
       "      <th>Inns</th>\n",
       "      <th>NO</th>\n",
       "      <th>Runs</th>\n",
       "      <th>HS</th>\n",
       "      <th>Ave</th>\n",
       "      <th>BF</th>\n",
       "      <th>SR</th>\n",
       "      <th>100</th>\n",
       "      <th>50</th>\n",
       "      <th>0</th>\n",
       "      <th>4s</th>\n",
       "      <th>6s</th>\n",
       "    </tr>\n",
       "    <tr>\n",
       "      <th></th>\n",
       "      <th></th>\n",
       "      <th></th>\n",
       "      <th></th>\n",
       "      <th></th>\n",
       "      <th></th>\n",
       "      <th></th>\n",
       "      <th></th>\n",
       "      <th></th>\n",
       "      <th></th>\n",
       "      <th></th>\n",
       "      <th></th>\n",
       "      <th></th>\n",
       "      <th></th>\n",
       "      <th></th>\n",
       "    </tr>\n",
       "  </thead>\n",
       "  <tbody>\n",
       "    <tr>\n",
       "      <th>Overall</th>\n",
       "      <td>1989-2012</td>\n",
       "      <td>463</td>\n",
       "      <td>452</td>\n",
       "      <td>41</td>\n",
       "      <td>18426</td>\n",
       "      <td>200*</td>\n",
       "      <td>44.83</td>\n",
       "      <td>21367</td>\n",
       "      <td>86.23</td>\n",
       "      <td>49</td>\n",
       "      <td>96</td>\n",
       "      <td>20</td>\n",
       "      <td>2016</td>\n",
       "      <td>195</td>\n",
       "    </tr>\n",
       "  </tbody>\n",
       "</table>\n",
       "</div>"
      ],
      "text/plain": [
       "              Span  Mat Inns  NO   Runs    HS    Ave     BF     SR 100  50  \\\n",
       "                                                                             \n",
       "Overall  1989-2012  463  452  41  18426  200*  44.83  21367  86.23  49  96   \n",
       "\n",
       "          0    4s   6s  \n",
       "                        \n",
       "Overall  20  2016  195  "
      ]
     },
     "execution_count": 469,
     "metadata": {},
     "output_type": "execute_result"
    }
   ],
   "source": [
    "overall[''] = 'Overall'\n",
    "overall.set_index('', inplace = True, drop = True)\n",
    "overall"
   ]
  },
  {
   "cell_type": "code",
   "execution_count": 470,
   "metadata": {},
   "outputs": [
    {
     "data": {
      "text/plain": [
       "Index(['Runs', 'Mins', 'BF', '4s', '6s', 'SR', 'Pos', 'Dismissal', 'Inns', '',\n",
       "       'Opposition', 'Ground', 'Start Date'],\n",
       "      dtype='object')"
      ]
     },
     "execution_count": 470,
     "metadata": {},
     "output_type": "execute_result"
    }
   ],
   "source": [
    "parsed_tables[3].columns"
   ]
  },
  {
   "cell_type": "code",
   "execution_count": 471,
   "metadata": {},
   "outputs": [
    {
     "name": "stdout",
     "output_type": "stream",
     "text": [
      "<class 'list'>\n"
     ]
    }
   ],
   "source": [
    "print(type(parsed_tables))"
   ]
  },
  {
   "cell_type": "code",
   "execution_count": 472,
   "metadata": {},
   "outputs": [],
   "source": [
    "innings = parsed_tables[3]"
   ]
  },
  {
   "cell_type": "code",
   "execution_count": 473,
   "metadata": {},
   "outputs": [
    {
     "name": "stdout",
     "output_type": "stream",
     "text": [
      "<class 'pandas.core.frame.DataFrame'>\n"
     ]
    }
   ],
   "source": [
    "print(type(innings))"
   ]
  },
  {
   "cell_type": "code",
   "execution_count": 474,
   "metadata": {},
   "outputs": [
    {
     "data": {
      "text/html": [
       "<div>\n",
       "<style scoped>\n",
       "    .dataframe tbody tr th:only-of-type {\n",
       "        vertical-align: middle;\n",
       "    }\n",
       "\n",
       "    .dataframe tbody tr th {\n",
       "        vertical-align: top;\n",
       "    }\n",
       "\n",
       "    .dataframe thead th {\n",
       "        text-align: right;\n",
       "    }\n",
       "</style>\n",
       "<table border=\"1\" class=\"dataframe\">\n",
       "  <thead>\n",
       "    <tr style=\"text-align: right;\">\n",
       "      <th></th>\n",
       "      <th>Runs</th>\n",
       "      <th>Mins</th>\n",
       "      <th>BF</th>\n",
       "      <th>4s</th>\n",
       "      <th>6s</th>\n",
       "      <th>SR</th>\n",
       "      <th>Pos</th>\n",
       "      <th>Dismissal</th>\n",
       "      <th>Inns</th>\n",
       "      <th></th>\n",
       "      <th>Opposition</th>\n",
       "      <th>Ground</th>\n",
       "      <th>Start Date</th>\n",
       "    </tr>\n",
       "  </thead>\n",
       "  <tbody>\n",
       "    <tr>\n",
       "      <th>0</th>\n",
       "      <td>0</td>\n",
       "      <td>-</td>\n",
       "      <td>2</td>\n",
       "      <td>0</td>\n",
       "      <td>0</td>\n",
       "      <td>0.00</td>\n",
       "      <td>5</td>\n",
       "      <td>caught</td>\n",
       "      <td>2</td>\n",
       "      <td></td>\n",
       "      <td>v Pakistan</td>\n",
       "      <td>Gujranwala</td>\n",
       "      <td>18 Dec 1989</td>\n",
       "    </tr>\n",
       "    <tr>\n",
       "      <th>1</th>\n",
       "      <td>0</td>\n",
       "      <td>2</td>\n",
       "      <td>2</td>\n",
       "      <td>0</td>\n",
       "      <td>0</td>\n",
       "      <td>0.00</td>\n",
       "      <td>5</td>\n",
       "      <td>caught</td>\n",
       "      <td>2</td>\n",
       "      <td></td>\n",
       "      <td>v New Zealand</td>\n",
       "      <td>Dunedin</td>\n",
       "      <td>1 Mar 1990</td>\n",
       "    </tr>\n",
       "    <tr>\n",
       "      <th>2</th>\n",
       "      <td>36</td>\n",
       "      <td>51</td>\n",
       "      <td>39</td>\n",
       "      <td>5</td>\n",
       "      <td>0</td>\n",
       "      <td>92.30</td>\n",
       "      <td>6</td>\n",
       "      <td>caught</td>\n",
       "      <td>1</td>\n",
       "      <td></td>\n",
       "      <td>v New Zealand</td>\n",
       "      <td>Wellington</td>\n",
       "      <td>6 Mar 1990</td>\n",
       "    </tr>\n",
       "    <tr>\n",
       "      <th>3</th>\n",
       "      <td>10</td>\n",
       "      <td>-</td>\n",
       "      <td>12</td>\n",
       "      <td>0</td>\n",
       "      <td>0</td>\n",
       "      <td>83.33</td>\n",
       "      <td>5</td>\n",
       "      <td>run out</td>\n",
       "      <td>1</td>\n",
       "      <td></td>\n",
       "      <td>v Sri Lanka</td>\n",
       "      <td>Sharjah</td>\n",
       "      <td>25 Apr 1990</td>\n",
       "    </tr>\n",
       "    <tr>\n",
       "      <th>4</th>\n",
       "      <td>20</td>\n",
       "      <td>-</td>\n",
       "      <td>25</td>\n",
       "      <td>1</td>\n",
       "      <td>0</td>\n",
       "      <td>80.00</td>\n",
       "      <td>7</td>\n",
       "      <td>caught</td>\n",
       "      <td>2</td>\n",
       "      <td></td>\n",
       "      <td>v Pakistan</td>\n",
       "      <td>Sharjah</td>\n",
       "      <td>27 Apr 1990</td>\n",
       "    </tr>\n",
       "  </tbody>\n",
       "</table>\n",
       "</div>"
      ],
      "text/plain": [
       "  Runs Mins  BF 4s 6s     SR Pos Dismissal Inns       Opposition      Ground  \\\n",
       "0    0    -   2  0  0   0.00   5    caught    2       v Pakistan  Gujranwala   \n",
       "1    0    2   2  0  0   0.00   5    caught    2    v New Zealand     Dunedin   \n",
       "2   36   51  39  5  0  92.30   6    caught    1    v New Zealand  Wellington   \n",
       "3   10    -  12  0  0  83.33   5   run out    1      v Sri Lanka     Sharjah   \n",
       "4   20    -  25  1  0  80.00   7    caught    2       v Pakistan     Sharjah   \n",
       "\n",
       "    Start Date  \n",
       "0  18 Dec 1989  \n",
       "1   1 Mar 1990  \n",
       "2   6 Mar 1990  \n",
       "3  25 Apr 1990  \n",
       "4  27 Apr 1990  "
      ]
     },
     "execution_count": 474,
     "metadata": {},
     "output_type": "execute_result"
    }
   ],
   "source": [
    "innings.head()"
   ]
  },
  {
   "cell_type": "code",
   "execution_count": 475,
   "metadata": {},
   "outputs": [
    {
     "name": "stdout",
     "output_type": "stream",
     "text": [
      "<class 'str'>\n"
     ]
    }
   ],
   "source": [
    "print(type(innings['Start Date'][2]))"
   ]
  },
  {
   "cell_type": "code",
   "execution_count": 476,
   "metadata": {},
   "outputs": [
    {
     "name": "stdout",
     "output_type": "stream",
     "text": [
      "  Runs Mins  BF 4s 6s     SR Pos Dismissal Inns       Opposition      Ground  \\\n",
      "0    0    -   2  0  0   0.00   5    caught    2       v Pakistan  Gujranwala   \n",
      "1    0    2   2  0  0   0.00   5    caught    2    v New Zealand     Dunedin   \n",
      "2   36   51  39  5  0  92.30   6    caught    1    v New Zealand  Wellington   \n",
      "3   10    -  12  0  0  83.33   5   run out    1      v Sri Lanka     Sharjah   \n",
      "4   20    -  25  1  0  80.00   7    caught    2       v Pakistan     Sharjah   \n",
      "\n",
      "  Start Date  \n",
      "0 1989-12-18  \n",
      "1 1990-03-01  \n",
      "2 1990-03-06  \n",
      "3 1990-04-25  \n",
      "4 1990-04-27  \n",
      "<class 'pandas.core.frame.DataFrame'>\n",
      "RangeIndex: 463 entries, 0 to 462\n",
      "Data columns (total 13 columns):\n",
      "Runs          463 non-null object\n",
      "Mins          463 non-null object\n",
      "BF            463 non-null object\n",
      "4s            463 non-null object\n",
      "6s            463 non-null object\n",
      "SR            463 non-null object\n",
      "Pos           463 non-null object\n",
      "Dismissal     463 non-null object\n",
      "Inns          463 non-null object\n",
      "              463 non-null object\n",
      "Opposition    463 non-null object\n",
      "Ground        463 non-null object\n",
      "Start Date    463 non-null datetime64[ns]\n",
      "dtypes: datetime64[ns](1), object(12)\n",
      "memory usage: 47.1+ KB\n",
      "None\n"
     ]
    }
   ],
   "source": [
    "innings['Start Date'] = pd.to_datetime(innings['Start Date'])\n",
    "print(innings.head())\n",
    "print(innings.info())"
   ]
  },
  {
   "cell_type": "code",
   "execution_count": 477,
   "metadata": {},
   "outputs": [],
   "source": [
    "innings = innings.set_index(innings['Start Date'])"
   ]
  },
  {
   "cell_type": "code",
   "execution_count": 478,
   "metadata": {},
   "outputs": [
    {
     "data": {
      "text/html": [
       "<div>\n",
       "<style scoped>\n",
       "    .dataframe tbody tr th:only-of-type {\n",
       "        vertical-align: middle;\n",
       "    }\n",
       "\n",
       "    .dataframe tbody tr th {\n",
       "        vertical-align: top;\n",
       "    }\n",
       "\n",
       "    .dataframe thead th {\n",
       "        text-align: right;\n",
       "    }\n",
       "</style>\n",
       "<table border=\"1\" class=\"dataframe\">\n",
       "  <thead>\n",
       "    <tr style=\"text-align: right;\">\n",
       "      <th></th>\n",
       "      <th>Runs</th>\n",
       "      <th>Mins</th>\n",
       "      <th>BF</th>\n",
       "      <th>4s</th>\n",
       "      <th>6s</th>\n",
       "      <th>SR</th>\n",
       "      <th>Pos</th>\n",
       "      <th>Dismissal</th>\n",
       "      <th>Inns</th>\n",
       "      <th></th>\n",
       "      <th>Opposition</th>\n",
       "      <th>Ground</th>\n",
       "      <th>Start Date</th>\n",
       "    </tr>\n",
       "    <tr>\n",
       "      <th>Start Date</th>\n",
       "      <th></th>\n",
       "      <th></th>\n",
       "      <th></th>\n",
       "      <th></th>\n",
       "      <th></th>\n",
       "      <th></th>\n",
       "      <th></th>\n",
       "      <th></th>\n",
       "      <th></th>\n",
       "      <th></th>\n",
       "      <th></th>\n",
       "      <th></th>\n",
       "      <th></th>\n",
       "    </tr>\n",
       "  </thead>\n",
       "  <tbody>\n",
       "    <tr>\n",
       "      <th>1989-12-18</th>\n",
       "      <td>0</td>\n",
       "      <td>-</td>\n",
       "      <td>2</td>\n",
       "      <td>0</td>\n",
       "      <td>0</td>\n",
       "      <td>0.00</td>\n",
       "      <td>5</td>\n",
       "      <td>caught</td>\n",
       "      <td>2</td>\n",
       "      <td></td>\n",
       "      <td>v Pakistan</td>\n",
       "      <td>Gujranwala</td>\n",
       "      <td>1989-12-18</td>\n",
       "    </tr>\n",
       "    <tr>\n",
       "      <th>1990-03-01</th>\n",
       "      <td>0</td>\n",
       "      <td>2</td>\n",
       "      <td>2</td>\n",
       "      <td>0</td>\n",
       "      <td>0</td>\n",
       "      <td>0.00</td>\n",
       "      <td>5</td>\n",
       "      <td>caught</td>\n",
       "      <td>2</td>\n",
       "      <td></td>\n",
       "      <td>v New Zealand</td>\n",
       "      <td>Dunedin</td>\n",
       "      <td>1990-03-01</td>\n",
       "    </tr>\n",
       "    <tr>\n",
       "      <th>1990-03-06</th>\n",
       "      <td>36</td>\n",
       "      <td>51</td>\n",
       "      <td>39</td>\n",
       "      <td>5</td>\n",
       "      <td>0</td>\n",
       "      <td>92.30</td>\n",
       "      <td>6</td>\n",
       "      <td>caught</td>\n",
       "      <td>1</td>\n",
       "      <td></td>\n",
       "      <td>v New Zealand</td>\n",
       "      <td>Wellington</td>\n",
       "      <td>1990-03-06</td>\n",
       "    </tr>\n",
       "    <tr>\n",
       "      <th>1990-04-25</th>\n",
       "      <td>10</td>\n",
       "      <td>-</td>\n",
       "      <td>12</td>\n",
       "      <td>0</td>\n",
       "      <td>0</td>\n",
       "      <td>83.33</td>\n",
       "      <td>5</td>\n",
       "      <td>run out</td>\n",
       "      <td>1</td>\n",
       "      <td></td>\n",
       "      <td>v Sri Lanka</td>\n",
       "      <td>Sharjah</td>\n",
       "      <td>1990-04-25</td>\n",
       "    </tr>\n",
       "    <tr>\n",
       "      <th>1990-04-27</th>\n",
       "      <td>20</td>\n",
       "      <td>-</td>\n",
       "      <td>25</td>\n",
       "      <td>1</td>\n",
       "      <td>0</td>\n",
       "      <td>80.00</td>\n",
       "      <td>7</td>\n",
       "      <td>caught</td>\n",
       "      <td>2</td>\n",
       "      <td></td>\n",
       "      <td>v Pakistan</td>\n",
       "      <td>Sharjah</td>\n",
       "      <td>1990-04-27</td>\n",
       "    </tr>\n",
       "  </tbody>\n",
       "</table>\n",
       "</div>"
      ],
      "text/plain": [
       "           Runs Mins  BF 4s 6s     SR Pos Dismissal Inns       Opposition  \\\n",
       "Start Date                                                                  \n",
       "1989-12-18    0    -   2  0  0   0.00   5    caught    2       v Pakistan   \n",
       "1990-03-01    0    2   2  0  0   0.00   5    caught    2    v New Zealand   \n",
       "1990-03-06   36   51  39  5  0  92.30   6    caught    1    v New Zealand   \n",
       "1990-04-25   10    -  12  0  0  83.33   5   run out    1      v Sri Lanka   \n",
       "1990-04-27   20    -  25  1  0  80.00   7    caught    2       v Pakistan   \n",
       "\n",
       "                Ground Start Date  \n",
       "Start Date                         \n",
       "1989-12-18  Gujranwala 1989-12-18  \n",
       "1990-03-01     Dunedin 1990-03-01  \n",
       "1990-03-06  Wellington 1990-03-06  \n",
       "1990-04-25     Sharjah 1990-04-25  \n",
       "1990-04-27     Sharjah 1990-04-27  "
      ]
     },
     "execution_count": 478,
     "metadata": {},
     "output_type": "execute_result"
    }
   ],
   "source": [
    "innings.head()"
   ]
  },
  {
   "cell_type": "code",
   "execution_count": 479,
   "metadata": {},
   "outputs": [],
   "source": [
    "innings.drop(['Start Date'], axis = 1, inplace = True)"
   ]
  },
  {
   "cell_type": "code",
   "execution_count": 480,
   "metadata": {},
   "outputs": [
    {
     "data": {
      "text/plain": [
       "12"
      ]
     },
     "execution_count": 480,
     "metadata": {},
     "output_type": "execute_result"
    }
   ],
   "source": [
    "len(innings.columns)"
   ]
  },
  {
   "cell_type": "code",
   "execution_count": 481,
   "metadata": {
    "scrolled": true
   },
   "outputs": [
    {
     "name": "stdout",
     "output_type": "stream",
     "text": [
      "<class 'pandas.core.frame.DataFrame'>\n",
      "DatetimeIndex: 463 entries, 1989-12-18 to 2012-03-18\n",
      "Data columns (total 12 columns):\n",
      "Runs          463 non-null object\n",
      "Mins          463 non-null object\n",
      "BF            463 non-null object\n",
      "4s            463 non-null object\n",
      "6s            463 non-null object\n",
      "SR            463 non-null object\n",
      "Pos           463 non-null object\n",
      "Dismissal     463 non-null object\n",
      "Inns          463 non-null object\n",
      "              463 non-null object\n",
      "Opposition    463 non-null object\n",
      "Ground        463 non-null object\n",
      "dtypes: object(12)\n",
      "memory usage: 47.0+ KB\n"
     ]
    }
   ],
   "source": [
    "innings.info()"
   ]
  },
  {
   "cell_type": "code",
   "execution_count": 482,
   "metadata": {},
   "outputs": [],
   "source": [
    "innings.drop([''], axis = 1, inplace = True)"
   ]
  },
  {
   "cell_type": "code",
   "execution_count": 483,
   "metadata": {},
   "outputs": [
    {
     "data": {
      "text/plain": [
       "Index(['Runs', 'Mins', 'BF', '4s', '6s', 'SR', 'Pos', 'Dismissal', 'Inns',\n",
       "       'Opposition', 'Ground'],\n",
       "      dtype='object')"
      ]
     },
     "execution_count": 483,
     "metadata": {},
     "output_type": "execute_result"
    }
   ],
   "source": [
    "innings.columns"
   ]
  },
  {
   "cell_type": "code",
   "execution_count": 484,
   "metadata": {},
   "outputs": [
    {
     "data": {
      "text/plain": [
       "pandas.core.series.Series"
      ]
     },
     "execution_count": 484,
     "metadata": {},
     "output_type": "execute_result"
    }
   ],
   "source": [
    "type(innings['Runs'])"
   ]
  },
  {
   "cell_type": "code",
   "execution_count": 485,
   "metadata": {},
   "outputs": [
    {
     "name": "stdout",
     "output_type": "stream",
     "text": [
      "           Runs Mins BF 4s 6s SR Pos Dismissal Inns    Opposition  \\\n",
      "Start Date                                                          \n",
      "1990-12-25  DNB    -  -  -  -  -   -         -    2  v Bangladesh   \n",
      "1992-02-28  DNB    -  -  -  -  -   -         -    1   v Sri Lanka   \n",
      "1993-03-25  DNB    -  -  -  -  -   -         -    2    v Zimbabwe   \n",
      "2001-10-12  DNB    -  -  -  -  -   -         -    2       v Kenya   \n",
      "2002-09-29  DNB    -  -  -  -  -   -         -    2   v Sri Lanka   \n",
      "\n",
      "                   Ground  \n",
      "Start Date                 \n",
      "1990-12-25     Chandigarh  \n",
      "1992-02-28         Mackay  \n",
      "1993-03-25           Pune  \n",
      "2001-10-12   Bloemfontein  \n",
      "2002-09-29  Colombo (RPS)  \n"
     ]
    }
   ],
   "source": [
    "print(innings[innings['Runs'] == 'DNB'])"
   ]
  },
  {
   "cell_type": "markdown",
   "metadata": {},
   "source": [
    "**All the columns are non-null object and stored as strings. **\n",
    "\n",
    "Objective: Convert [Runs, Mins, BF, 4s, 6s, SR, Pos, Inns] to numeric data type.\n",
    "\n",
    "Problem: columns may have NaN - missing values. To convert to integer, first the NaNs need to be resolved. The issue is that pd.to_numeric() is coercing DNB, TDNB, and 50* (not outs) to NaN!"
   ]
  },
  {
   "cell_type": "code",
   "execution_count": 486,
   "metadata": {},
   "outputs": [
    {
     "name": "stdout",
     "output_type": "stream",
     "text": [
      "<class 'pandas.core.frame.DataFrame'>\n",
      "DatetimeIndex: 463 entries, 1989-12-18 to 2012-03-18\n",
      "Data columns (total 11 columns):\n",
      "Runs          463 non-null object\n",
      "Mins          463 non-null object\n",
      "BF            463 non-null object\n",
      "4s            463 non-null object\n",
      "6s            463 non-null object\n",
      "SR            463 non-null object\n",
      "Pos           463 non-null object\n",
      "Dismissal     463 non-null object\n",
      "Inns          463 non-null object\n",
      "Opposition    463 non-null object\n",
      "Ground        463 non-null object\n",
      "dtypes: object(11)\n",
      "memory usage: 43.4+ KB\n"
     ]
    }
   ],
   "source": [
    "innings.info()"
   ]
  },
  {
   "cell_type": "code",
   "execution_count": 487,
   "metadata": {},
   "outputs": [
    {
     "data": {
      "text/plain": [
       "'36'"
      ]
     },
     "execution_count": 487,
     "metadata": {},
     "output_type": "execute_result"
    }
   ],
   "source": [
    "innings['Runs'][2]"
   ]
  },
  {
   "cell_type": "markdown",
   "metadata": {},
   "source": [
    "**Objective: Removing non-numeric characters from Runs column**"
   ]
  },
  {
   "cell_type": "code",
   "execution_count": 488,
   "metadata": {},
   "outputs": [],
   "source": [
    "# Dropping rows with DNB/TDNB in Runs column\n",
    "pattern = r'[a-zA-Z]'\n",
    "innings = innings[innings.Runs.str.contains(pattern) == False]"
   ]
  },
  {
   "cell_type": "code",
   "execution_count": 489,
   "metadata": {},
   "outputs": [
    {
     "name": "stdout",
     "output_type": "stream",
     "text": [
      "<class 'pandas.core.frame.DataFrame'>\n",
      "DatetimeIndex: 452 entries, 1989-12-18 to 2012-03-18\n",
      "Data columns (total 11 columns):\n",
      "Runs          452 non-null object\n",
      "Mins          452 non-null object\n",
      "BF            452 non-null object\n",
      "4s            452 non-null object\n",
      "6s            452 non-null object\n",
      "SR            452 non-null object\n",
      "Pos           452 non-null object\n",
      "Dismissal     452 non-null object\n",
      "Inns          452 non-null object\n",
      "Opposition    452 non-null object\n",
      "Ground        452 non-null object\n",
      "dtypes: object(11)\n",
      "memory usage: 42.4+ KB\n"
     ]
    }
   ],
   "source": [
    "innings.info()"
   ]
  },
  {
   "cell_type": "code",
   "execution_count": 490,
   "metadata": {},
   "outputs": [],
   "source": [
    "# Removing non-numeric characters from Runs column\n",
    "innings['Runs'] = innings.Runs.str.replace('\\W', '')\n",
    "    "
   ]
  },
  {
   "cell_type": "code",
   "execution_count": 491,
   "metadata": {},
   "outputs": [],
   "source": [
    "# Converting columns of innings dataframe to correct data type from strings initially\n",
    "innings['Runs'] = pd.to_numeric(innings['Runs'])\n",
    "#innings['Mins'] = pd.to_numeric(innings['Mins'])\n",
    "innings['BF'] = pd.to_numeric(innings['BF'])\n",
    "innings['4s'] = pd.to_numeric(innings['4s'])\n",
    "innings['6s'] = pd.to_numeric(innings['6s'])\n",
    "innings['SR'] = pd.to_numeric(innings['SR'])\n",
    "#innings['Pos'] = pd.to_numeric(innings['Pos'])\n",
    "#innings['Inns'] = pd.to_numeric(innings['Inns'])"
   ]
  },
  {
   "cell_type": "code",
   "execution_count": 492,
   "metadata": {},
   "outputs": [
    {
     "name": "stdout",
     "output_type": "stream",
     "text": [
      "<class 'pandas.core.frame.DataFrame'>\n",
      "DatetimeIndex: 452 entries, 1989-12-18 to 2012-03-18\n",
      "Data columns (total 11 columns):\n",
      "Runs          452 non-null int64\n",
      "Mins          452 non-null object\n",
      "BF            452 non-null int64\n",
      "4s            452 non-null int64\n",
      "6s            452 non-null int64\n",
      "SR            452 non-null float64\n",
      "Pos           452 non-null object\n",
      "Dismissal     452 non-null object\n",
      "Inns          452 non-null object\n",
      "Opposition    452 non-null object\n",
      "Ground        452 non-null object\n",
      "dtypes: float64(1), int64(4), object(6)\n",
      "memory usage: 42.4+ KB\n"
     ]
    }
   ],
   "source": [
    "innings.info()"
   ]
  },
  {
   "cell_type": "code",
   "execution_count": 493,
   "metadata": {},
   "outputs": [],
   "source": [
    "innings.drop('Mins', axis = 1, inplace = True)"
   ]
  },
  {
   "cell_type": "code",
   "execution_count": 494,
   "metadata": {},
   "outputs": [],
   "source": [
    "final_innings_df = innings.copy()"
   ]
  },
  {
   "cell_type": "code",
   "execution_count": 495,
   "metadata": {},
   "outputs": [
    {
     "data": {
      "text/html": [
       "<div>\n",
       "<style scoped>\n",
       "    .dataframe tbody tr th:only-of-type {\n",
       "        vertical-align: middle;\n",
       "    }\n",
       "\n",
       "    .dataframe tbody tr th {\n",
       "        vertical-align: top;\n",
       "    }\n",
       "\n",
       "    .dataframe thead th {\n",
       "        text-align: right;\n",
       "    }\n",
       "</style>\n",
       "<table border=\"1\" class=\"dataframe\">\n",
       "  <thead>\n",
       "    <tr style=\"text-align: right;\">\n",
       "      <th></th>\n",
       "      <th>Runs</th>\n",
       "      <th>BF</th>\n",
       "      <th>4s</th>\n",
       "      <th>6s</th>\n",
       "      <th>SR</th>\n",
       "      <th>Pos</th>\n",
       "      <th>Dismissal</th>\n",
       "      <th>Inns</th>\n",
       "      <th>Opposition</th>\n",
       "      <th>Ground</th>\n",
       "    </tr>\n",
       "    <tr>\n",
       "      <th>Start Date</th>\n",
       "      <th></th>\n",
       "      <th></th>\n",
       "      <th></th>\n",
       "      <th></th>\n",
       "      <th></th>\n",
       "      <th></th>\n",
       "      <th></th>\n",
       "      <th></th>\n",
       "      <th></th>\n",
       "      <th></th>\n",
       "    </tr>\n",
       "  </thead>\n",
       "  <tbody>\n",
       "    <tr>\n",
       "      <th>1989-12-18</th>\n",
       "      <td>0</td>\n",
       "      <td>2</td>\n",
       "      <td>0</td>\n",
       "      <td>0</td>\n",
       "      <td>0.00</td>\n",
       "      <td>5</td>\n",
       "      <td>caught</td>\n",
       "      <td>2</td>\n",
       "      <td>v Pakistan</td>\n",
       "      <td>Gujranwala</td>\n",
       "    </tr>\n",
       "    <tr>\n",
       "      <th>1990-03-01</th>\n",
       "      <td>0</td>\n",
       "      <td>2</td>\n",
       "      <td>0</td>\n",
       "      <td>0</td>\n",
       "      <td>0.00</td>\n",
       "      <td>5</td>\n",
       "      <td>caught</td>\n",
       "      <td>2</td>\n",
       "      <td>v New Zealand</td>\n",
       "      <td>Dunedin</td>\n",
       "    </tr>\n",
       "    <tr>\n",
       "      <th>1990-03-06</th>\n",
       "      <td>36</td>\n",
       "      <td>39</td>\n",
       "      <td>5</td>\n",
       "      <td>0</td>\n",
       "      <td>92.30</td>\n",
       "      <td>6</td>\n",
       "      <td>caught</td>\n",
       "      <td>1</td>\n",
       "      <td>v New Zealand</td>\n",
       "      <td>Wellington</td>\n",
       "    </tr>\n",
       "    <tr>\n",
       "      <th>1990-04-25</th>\n",
       "      <td>10</td>\n",
       "      <td>12</td>\n",
       "      <td>0</td>\n",
       "      <td>0</td>\n",
       "      <td>83.33</td>\n",
       "      <td>5</td>\n",
       "      <td>run out</td>\n",
       "      <td>1</td>\n",
       "      <td>v Sri Lanka</td>\n",
       "      <td>Sharjah</td>\n",
       "    </tr>\n",
       "    <tr>\n",
       "      <th>1990-04-27</th>\n",
       "      <td>20</td>\n",
       "      <td>25</td>\n",
       "      <td>1</td>\n",
       "      <td>0</td>\n",
       "      <td>80.00</td>\n",
       "      <td>7</td>\n",
       "      <td>caught</td>\n",
       "      <td>2</td>\n",
       "      <td>v Pakistan</td>\n",
       "      <td>Sharjah</td>\n",
       "    </tr>\n",
       "  </tbody>\n",
       "</table>\n",
       "</div>"
      ],
      "text/plain": [
       "            Runs  BF  4s  6s     SR Pos Dismissal Inns     Opposition  \\\n",
       "Start Date                                                              \n",
       "1989-12-18     0   2   0   0   0.00   5    caught    2     v Pakistan   \n",
       "1990-03-01     0   2   0   0   0.00   5    caught    2  v New Zealand   \n",
       "1990-03-06    36  39   5   0  92.30   6    caught    1  v New Zealand   \n",
       "1990-04-25    10  12   0   0  83.33   5   run out    1    v Sri Lanka   \n",
       "1990-04-27    20  25   1   0  80.00   7    caught    2     v Pakistan   \n",
       "\n",
       "                Ground  \n",
       "Start Date              \n",
       "1989-12-18  Gujranwala  \n",
       "1990-03-01     Dunedin  \n",
       "1990-03-06  Wellington  \n",
       "1990-04-25     Sharjah  \n",
       "1990-04-27     Sharjah  "
      ]
     },
     "execution_count": 495,
     "metadata": {},
     "output_type": "execute_result"
    }
   ],
   "source": [
    "final_innings_df.head()"
   ]
  },
  {
   "cell_type": "markdown",
   "metadata": {},
   "source": [
    "**final_innings_df and innings are the final processed dataframes which will be used for Exploratory Data Analysis and Visualisation. **\n",
    "\n",
    "We start with frequency counts of categorical variables (Pos, Dismissal, Inns, Opposition, Ground)."
   ]
  },
  {
   "cell_type": "code",
   "execution_count": 496,
   "metadata": {},
   "outputs": [],
   "source": [
    "pos = innings.Pos.value_counts(dropna = False)\n",
    "dismissal = innings.Dismissal.value_counts(dropna = False)\n",
    "inns = innings.Inns.value_counts(dropna = False)\n",
    "opposition = innings.Opposition.value_counts(dropna = False)\n",
    "ground = innings.Ground.value_counts(dropna = False)"
   ]
  },
  {
   "cell_type": "code",
   "execution_count": 497,
   "metadata": {},
   "outputs": [
    {
     "data": {
      "text/plain": [
       "2    293\n",
       "4     61\n",
       "1     47\n",
       "5     36\n",
       "3     10\n",
       "6      4\n",
       "7      1\n",
       "Name: Pos, dtype: int64"
      ]
     },
     "execution_count": 497,
     "metadata": {},
     "output_type": "execute_result"
    }
   ],
   "source": [
    "pos"
   ]
  },
  {
   "cell_type": "code",
   "execution_count": 498,
   "metadata": {},
   "outputs": [
    {
     "data": {
      "text/plain": [
       "caught            258\n",
       "bowled             68\n",
       "not out            40\n",
       "lbw                39\n",
       "run out            34\n",
       "stumped            11\n",
       "retired notout      1\n",
       "hit wicket          1\n",
       "Name: Dismissal, dtype: int64"
      ]
     },
     "execution_count": 498,
     "metadata": {},
     "output_type": "execute_result"
    }
   ],
   "source": [
    "dismissal"
   ]
  },
  {
   "cell_type": "code",
   "execution_count": 499,
   "metadata": {},
   "outputs": [
    {
     "data": {
      "text/plain": [
       "2    232\n",
       "1    220\n",
       "Name: Inns, dtype: int64"
      ]
     },
     "execution_count": 499,
     "metadata": {},
     "output_type": "execute_result"
    }
   ],
   "source": [
    "inns"
   ]
  },
  {
   "cell_type": "code",
   "execution_count": 500,
   "metadata": {},
   "outputs": [
    {
     "data": {
      "text/plain": [
       "v Sri Lanka       80\n",
       "v Australia       70\n",
       "v Pakistan        67\n",
       "v South Africa    57\n",
       "v New Zealand     41\n",
       "Name: Opposition, dtype: int64"
      ]
     },
     "execution_count": 500,
     "metadata": {},
     "output_type": "execute_result"
    }
   ],
   "source": [
    "opposition.head()"
   ]
  },
  {
   "cell_type": "code",
   "execution_count": 501,
   "metadata": {},
   "outputs": [
    {
     "data": {
      "text/plain": [
       "Sharjah          42\n",
       "Colombo (RPS)    26\n",
       "Dhaka            15\n",
       "Kolkata          12\n",
       "Toronto          11\n",
       "Name: Ground, dtype: int64"
      ]
     },
     "execution_count": 501,
     "metadata": {},
     "output_type": "execute_result"
    }
   ],
   "source": [
    "ground.head()"
   ]
  },
  {
   "cell_type": "code",
   "execution_count": 506,
   "metadata": {},
   "outputs": [],
   "source": [
    "# Below is the percentage or the normalised value for each category.\n",
    "pos_per = (innings.Pos.value_counts(dropna = False, normalize = True).round(3))*100\n",
    "dismissal_per = (innings.Dismissal.value_counts(dropna = False, normalize = True).round(3))*100\n",
    "inns_per = (innings.Inns.value_counts(dropna = False, normalize = True).round(3))*100\n",
    "opposition_per = (innings.Opposition.value_counts(dropna = False, normalize = True).round(3))*100\n",
    "ground_per = (innings.Ground.value_counts(dropna = False, normalize = True).round(3))*100"
   ]
  },
  {
   "cell_type": "code",
   "execution_count": 507,
   "metadata": {},
   "outputs": [
    {
     "data": {
      "text/plain": [
       "2    64.8\n",
       "4    13.5\n",
       "1    10.4\n",
       "5     8.0\n",
       "3     2.2\n",
       "6     0.9\n",
       "7     0.2\n",
       "Name: Pos, dtype: float64"
      ]
     },
     "execution_count": 507,
     "metadata": {},
     "output_type": "execute_result"
    }
   ],
   "source": [
    "pos_per"
   ]
  },
  {
   "cell_type": "code",
   "execution_count": 508,
   "metadata": {},
   "outputs": [
    {
     "data": {
      "text/plain": [
       "caught            57.1\n",
       "bowled            15.0\n",
       "not out            8.8\n",
       "lbw                8.6\n",
       "run out            7.5\n",
       "stumped            2.4\n",
       "retired notout     0.2\n",
       "hit wicket         0.2\n",
       "Name: Dismissal, dtype: float64"
      ]
     },
     "execution_count": 508,
     "metadata": {},
     "output_type": "execute_result"
    }
   ],
   "source": [
    "dismissal_per"
   ]
  },
  {
   "cell_type": "code",
   "execution_count": 509,
   "metadata": {},
   "outputs": [
    {
     "data": {
      "text/plain": [
       "2    51.3\n",
       "1    48.7\n",
       "Name: Inns, dtype: float64"
      ]
     },
     "execution_count": 509,
     "metadata": {},
     "output_type": "execute_result"
    }
   ],
   "source": [
    "inns_per"
   ]
  },
  {
   "cell_type": "code",
   "execution_count": 510,
   "metadata": {},
   "outputs": [
    {
     "data": {
      "text/plain": [
       "Sharjah               9.3\n",
       "Colombo (RPS)         5.8\n",
       "Dhaka                 3.3\n",
       "Kolkata               2.7\n",
       "Toronto               2.4\n",
       "Mumbai                2.4\n",
       "Bengaluru             2.4\n",
       "Colombo (SSC)         2.2\n",
       "Cuttack               2.2\n",
       "Brisbane              2.0\n",
       "Nagpur                2.0\n",
       "Gwalior               2.0\n",
       "Adelaide              1.8\n",
       "Centurion             1.8\n",
       "Durban                1.8\n",
       "Perth                 1.8\n",
       "Delhi                 1.8\n",
       "Kanpur                1.8\n",
       "Sydney                1.8\n",
       "Vadodara              1.5\n",
       "Rajkot                1.5\n",
       "Melbourne             1.5\n",
       "Hyderabad (Deccan)    1.5\n",
       "Jaipur                1.5\n",
       "Mohali                1.5\n",
       "Wellington            1.3\n",
       "Port of Spain         1.3\n",
       "Chennai               1.3\n",
       "Harare                1.3\n",
       "Johannesburg          1.1\n",
       "                     ... \n",
       "Bristol               0.7\n",
       "Bridgetown            0.4\n",
       "Peshawar              0.4\n",
       "Nottingham            0.4\n",
       "Christchurch          0.4\n",
       "Indore                0.4\n",
       "Karachi               0.4\n",
       "Bloemfontein          0.4\n",
       "Rawalpindi            0.4\n",
       "Chandigarh            0.4\n",
       "Moratuwa              0.2\n",
       "New Delhi             0.2\n",
       "Jalandhar             0.2\n",
       "Taupo                 0.2\n",
       "Kingstown             0.2\n",
       "Galle                 0.2\n",
       "Chittagong            0.2\n",
       "Multan                0.2\n",
       "Chester-le-Street     0.2\n",
       "Taunton               0.2\n",
       "Southampton           0.2\n",
       "Benoni                0.2\n",
       "Hove                  0.2\n",
       "Jodhpur               0.2\n",
       "Hyderabad (Sind)      0.2\n",
       "Canberra              0.2\n",
       "Amritsar              0.2\n",
       "Pietermaritzburg      0.2\n",
       "Mumbai (BS)           0.2\n",
       "Gujranwala            0.2\n",
       "Name: Ground, Length: 89, dtype: float64"
      ]
     },
     "execution_count": 510,
     "metadata": {},
     "output_type": "execute_result"
    }
   ],
   "source": [
    "ground_per"
   ]
  },
  {
   "cell_type": "code",
   "execution_count": 511,
   "metadata": {},
   "outputs": [
    {
     "data": {
      "text/plain": [
       "v Sri Lanka       17.7\n",
       "v Australia       15.5\n",
       "v Pakistan        14.8\n",
       "v South Africa    12.6\n",
       "v New Zealand      9.1\n",
       "v West Indies      8.6\n",
       "v England          8.2\n",
       "v Zimbabwe         7.3\n",
       "v Bangladesh       2.4\n",
       "v Kenya            2.0\n",
       "v Ireland          0.4\n",
       "v U.A.E.           0.4\n",
       "v Netherlands      0.4\n",
       "v Namibia          0.2\n",
       "v Bermuda          0.2\n",
       "Name: Opposition, dtype: float64"
      ]
     },
     "execution_count": 511,
     "metadata": {},
     "output_type": "execute_result"
    }
   ],
   "source": [
    "opposition_per"
   ]
  },
  {
   "cell_type": "code",
   "execution_count": 512,
   "metadata": {},
   "outputs": [
    {
     "data": {
      "text/plain": [
       "Index(['Runs', 'BF', '4s', '6s', 'SR', 'Pos', 'Dismissal', 'Inns',\n",
       "       'Opposition', 'Ground'],\n",
       "      dtype='object')"
      ]
     },
     "execution_count": 512,
     "metadata": {},
     "output_type": "execute_result"
    }
   ],
   "source": [
    "innings.columns"
   ]
  },
  {
   "cell_type": "code",
   "execution_count": 513,
   "metadata": {},
   "outputs": [
    {
     "data": {
      "text/html": [
       "<div>\n",
       "<style scoped>\n",
       "    .dataframe tbody tr th:only-of-type {\n",
       "        vertical-align: middle;\n",
       "    }\n",
       "\n",
       "    .dataframe tbody tr th {\n",
       "        vertical-align: top;\n",
       "    }\n",
       "\n",
       "    .dataframe thead th {\n",
       "        text-align: right;\n",
       "    }\n",
       "</style>\n",
       "<table border=\"1\" class=\"dataframe\">\n",
       "  <thead>\n",
       "    <tr style=\"text-align: right;\">\n",
       "      <th></th>\n",
       "      <th>Runs</th>\n",
       "      <th>BF</th>\n",
       "      <th>4s</th>\n",
       "      <th>6s</th>\n",
       "      <th>SR</th>\n",
       "    </tr>\n",
       "  </thead>\n",
       "  <tbody>\n",
       "    <tr>\n",
       "      <th>count</th>\n",
       "      <td>452.000000</td>\n",
       "      <td>452.000000</td>\n",
       "      <td>452.000000</td>\n",
       "      <td>452.000000</td>\n",
       "      <td>452.000000</td>\n",
       "    </tr>\n",
       "    <tr>\n",
       "      <th>mean</th>\n",
       "      <td>40.765487</td>\n",
       "      <td>47.272124</td>\n",
       "      <td>4.460177</td>\n",
       "      <td>0.431416</td>\n",
       "      <td>74.584093</td>\n",
       "    </tr>\n",
       "    <tr>\n",
       "      <th>std</th>\n",
       "      <td>40.039480</td>\n",
       "      <td>40.015394</td>\n",
       "      <td>4.544016</td>\n",
       "      <td>0.995415</td>\n",
       "      <td>35.903621</td>\n",
       "    </tr>\n",
       "    <tr>\n",
       "      <th>min</th>\n",
       "      <td>0.000000</td>\n",
       "      <td>1.000000</td>\n",
       "      <td>0.000000</td>\n",
       "      <td>0.000000</td>\n",
       "      <td>0.000000</td>\n",
       "    </tr>\n",
       "    <tr>\n",
       "      <th>25%</th>\n",
       "      <td>8.000000</td>\n",
       "      <td>15.000000</td>\n",
       "      <td>1.000000</td>\n",
       "      <td>0.000000</td>\n",
       "      <td>54.540000</td>\n",
       "    </tr>\n",
       "    <tr>\n",
       "      <th>50%</th>\n",
       "      <td>28.500000</td>\n",
       "      <td>33.000000</td>\n",
       "      <td>3.000000</td>\n",
       "      <td>0.000000</td>\n",
       "      <td>75.860000</td>\n",
       "    </tr>\n",
       "    <tr>\n",
       "      <th>75%</th>\n",
       "      <td>63.000000</td>\n",
       "      <td>70.000000</td>\n",
       "      <td>7.000000</td>\n",
       "      <td>0.000000</td>\n",
       "      <td>97.587500</td>\n",
       "    </tr>\n",
       "    <tr>\n",
       "      <th>max</th>\n",
       "      <td>200.000000</td>\n",
       "      <td>153.000000</td>\n",
       "      <td>25.000000</td>\n",
       "      <td>7.000000</td>\n",
       "      <td>196.550000</td>\n",
       "    </tr>\n",
       "  </tbody>\n",
       "</table>\n",
       "</div>"
      ],
      "text/plain": [
       "             Runs          BF          4s          6s          SR\n",
       "count  452.000000  452.000000  452.000000  452.000000  452.000000\n",
       "mean    40.765487   47.272124    4.460177    0.431416   74.584093\n",
       "std     40.039480   40.015394    4.544016    0.995415   35.903621\n",
       "min      0.000000    1.000000    0.000000    0.000000    0.000000\n",
       "25%      8.000000   15.000000    1.000000    0.000000   54.540000\n",
       "50%     28.500000   33.000000    3.000000    0.000000   75.860000\n",
       "75%     63.000000   70.000000    7.000000    0.000000   97.587500\n",
       "max    200.000000  153.000000   25.000000    7.000000  196.550000"
      ]
     },
     "execution_count": 513,
     "metadata": {},
     "output_type": "execute_result"
    }
   ],
   "source": [
    "innings.describe()"
   ]
  },
  {
   "cell_type": "markdown",
   "metadata": {},
   "source": [
    "** Visual Exploratory Data Analysis**\n",
    "\n",
    "Histogram - continuous numerical data"
   ]
  },
  {
   "cell_type": "code",
   "execution_count": 514,
   "metadata": {},
   "outputs": [
    {
     "data": {
      "text/plain": [
       "<matplotlib.axes._subplots.AxesSubplot at 0x26e13e48e80>"
      ]
     },
     "execution_count": 514,
     "metadata": {},
     "output_type": "execute_result"
    },
    {
     "data": {
      "image/png": "[encoded data removed]",
      "text/plain": [
       "<matplotlib.figure.Figure at 0x26e140a8828>"
      ]
     },
     "metadata": {},
     "output_type": "display_data"
    }
   ],
   "source": [
    "innings.Runs.plot('hist')"
   ]
  },
  {
   "cell_type": "code",
   "execution_count": 515,
   "metadata": {},
   "outputs": [
    {
     "data": {
      "text/plain": [
       "<matplotlib.axes._subplots.AxesSubplot at 0x26e1402e400>"
      ]
     },
     "execution_count": 515,
     "metadata": {},
     "output_type": "execute_result"
    },
    {
     "data": {
      "image/png": "[encoded data removed]",
      "text/plain": [
       "<matplotlib.figure.Figure at 0x26e1431a2b0>"
      ]
     },
     "metadata": {},
     "output_type": "display_data"
    }
   ],
   "source": [
    "innings.BF.plot('hist')"
   ]
  },
  {
   "cell_type": "code",
   "execution_count": 517,
   "metadata": {},
   "outputs": [
    {
     "data": {
      "text/plain": [
       "<matplotlib.axes._subplots.AxesSubplot at 0x26e1621ecc0>"
      ]
     },
     "execution_count": 517,
     "metadata": {},
     "output_type": "execute_result"
    },
    {
     "data": {
      "image/png": "[encoded data removed]",
      "text/plain": [
       "<matplotlib.figure.Figure at 0x26e14abb588>"
      ]
     },
     "metadata": {},
     "output_type": "display_data"
    }
   ],
   "source": [
    "innings['SR'].plot('hist')"
   ]
  },
  {
   "cell_type": "markdown",
   "metadata": {},
   "source": [
    "** Creating barplots for categorical data using its frequency counts**"
   ]
  },
  {
   "cell_type": "code",
   "execution_count": 518,
   "metadata": {},
   "outputs": [
    {
     "data": {
      "text/plain": [
       "<matplotlib.axes._subplots.AxesSubplot at 0x26e14a9ba90>"
      ]
     },
     "execution_count": 518,
     "metadata": {},
     "output_type": "execute_result"
    },
    {
     "data": {
      "image/png": "[encoded data removed]",
      "text/plain": [
       "<matplotlib.figure.Figure at 0x26e14a800b8>"
      ]
     },
     "metadata": {},
     "output_type": "display_data"
    }
   ],
   "source": [
    "pos.plot('bar')"
   ]
  },
  {
   "cell_type": "code",
   "execution_count": 519,
   "metadata": {},
   "outputs": [
    {
     "data": {
      "text/plain": [
       "<matplotlib.axes._subplots.AxesSubplot at 0x26e1435fda0>"
      ]
     },
     "execution_count": 519,
     "metadata": {},
     "output_type": "execute_result"
    },
    {
     "data": {
      "image/png": "[encoded data removed]",
      "text/plain": [
       "<matplotlib.figure.Figure at 0x26e1437a860>"
      ]
     },
     "metadata": {},
     "output_type": "display_data"
    }
   ],
   "source": [
    "dismissal.plot('bar')"
   ]
  },
  {
   "cell_type": "code",
   "execution_count": 520,
   "metadata": {},
   "outputs": [
    {
     "data": {
      "text/plain": [
       "<matplotlib.axes._subplots.AxesSubplot at 0x26e143cf668>"
      ]
     },
     "execution_count": 520,
     "metadata": {},
     "output_type": "execute_result"
    },
    {
     "data": {
      "image/png": "[encoded data removed]",
      "text/plain": [
       "<matplotlib.figure.Figure at 0x26e1440c710>"
      ]
     },
     "metadata": {},
     "output_type": "display_data"
    }
   ],
   "source": [
    "inns.plot('bar')"
   ]
  },
  {
   "cell_type": "code",
   "execution_count": 521,
   "metadata": {},
   "outputs": [
    {
     "data": {
      "text/plain": [
       "<matplotlib.axes._subplots.AxesSubplot at 0x26e14471470>"
      ]
     },
     "execution_count": 521,
     "metadata": {},
     "output_type": "execute_result"
    },
    {
     "data": {
      "image/png": "[encoded data removed]",
      "text/plain": [
       "<matplotlib.figure.Figure at 0x26e14466550>"
      ]
     },
     "metadata": {},
     "output_type": "display_data"
    }
   ],
   "source": [
    "opposition.plot('bar')"
   ]
  },
  {
   "cell_type": "code",
   "execution_count": 523,
   "metadata": {},
   "outputs": [
    {
     "data": {
      "text/plain": [
       "Pos\n",
       "1     47\n",
       "2    293\n",
       "3     10\n",
       "4     61\n",
       "5     36\n",
       "6      4\n",
       "7      1\n",
       "Name: Inns, dtype: int64"
      ]
     },
     "execution_count": 523,
     "metadata": {},
     "output_type": "execute_result"
    }
   ],
   "source": [
    "innings.groupby('Pos').Inns.count()"
   ]
  },
  {
   "cell_type": "code",
   "execution_count": 524,
   "metadata": {},
   "outputs": [
    {
     "name": "stdout",
     "output_type": "stream",
     "text": [
      "Start Date\n",
      "1989-12-18            caught\n",
      "1990-03-01            caught\n",
      "1990-03-06            caught\n",
      "1990-04-25           run out\n",
      "1990-04-27            caught\n",
      "1990-07-18            bowled\n",
      "1990-07-20            bowled\n",
      "1990-12-01            bowled\n",
      "1990-12-05            bowled\n",
      "1990-12-08            caught\n",
      "1990-12-28               lbw\n",
      "1991-01-04               lbw\n",
      "1991-10-18           not out\n",
      "1991-10-19           run out\n",
      "1991-10-22           not out\n",
      "1991-10-23            caught\n",
      "1991-10-25               lbw\n",
      "1991-11-10            caught\n",
      "1991-11-12            caught\n",
      "1991-11-14            caught\n",
      "1991-12-06            caught\n",
      "1991-12-08            caught\n",
      "1991-12-10            caught\n",
      "1991-12-14            caught\n",
      "1991-12-15            caught\n",
      "1992-01-11            caught\n",
      "1992-01-14           run out\n",
      "1992-01-16           not out\n",
      "1992-01-18            caught\n",
      "1992-01-20            caught\n",
      "1992-02-22            caught\n",
      "1992-03-01            caught\n",
      "1992-03-04           not out\n",
      "1992-03-07            caught\n",
      "1992-03-10            caught\n",
      "1992-03-12            caught\n",
      "1992-03-15            caught\n",
      "1992-10-25            caught\n",
      "1992-12-07            bowled\n",
      "1992-12-09            caught\n",
      "1992-12-11            caught\n",
      "1992-12-13            caught\n",
      "1992-12-15            bowled\n",
      "1992-12-17            caught\n",
      "1992-12-19            caught\n",
      "1993-01-18           not out\n",
      "1993-01-21               lbw\n",
      "1993-02-26            caught\n",
      "1993-03-01            bowled\n",
      "1993-03-04            bowled\n",
      "1993-03-05            caught\n",
      "1993-03-19            caught\n",
      "1993-03-22           not out\n",
      "1993-07-25            caught\n",
      "1993-08-12           run out\n",
      "1993-08-14            caught\n",
      "1993-11-07           not out\n",
      "1993-11-16               lbw\n",
      "1993-11-18            caught\n",
      "1993-11-22            caught\n",
      "1993-11-24            caught\n",
      "1993-11-27           not out\n",
      "1994-02-15            caught\n",
      "1994-02-18           not out\n",
      "1994-02-20           run out\n",
      "1994-03-25            caught\n",
      "1994-03-27            caught\n",
      "1994-03-30               lbw\n",
      "1994-04-02            bowled\n",
      "1994-04-13            caught\n",
      "1994-04-15            caught\n",
      "1994-04-19            caught\n",
      "1994-04-22            caught\n",
      "1994-09-04           not out\n",
      "1994-09-05            caught\n",
      "1994-09-09            bowled\n",
      "1994-09-17            caught\n",
      "1994-10-17            caught\n",
      "1994-10-20            caught\n",
      "1994-10-23            caught\n",
      "1994-10-28           run out\n",
      "1994-10-30            bowled\n",
      "1994-11-03            bowled\n",
      "1994-11-05            caught\n",
      "1994-11-07            caught\n",
      "1994-11-09            bowled\n",
      "1994-11-11            caught\n",
      "1995-02-16            caught\n",
      "1995-02-18            caught\n",
      "1995-02-22            caught\n",
      "1995-04-05            bowled\n",
      "1995-04-07            caught\n",
      "1995-04-09           not out\n",
      "1995-04-14            caught\n",
      "1995-11-15            caught\n",
      "1995-11-18            caught\n",
      "1995-11-24            caught\n",
      "1995-11-26           run out\n",
      "1995-11-29            bowled\n",
      "1996-02-18           not out\n",
      "1996-02-21           run out\n",
      "1996-02-27           stumped\n",
      "1996-03-02           run out\n",
      "1996-03-06            bowled\n",
      "1996-03-09            bowled\n",
      "1996-03-13           stumped\n",
      "1996-04-03            caught\n",
      "1996-04-05           stumped\n",
      "1996-04-12            caught\n",
      "1996-04-14            caught\n",
      "1996-04-15            caught\n",
      "1996-04-17            caught\n",
      "1996-04-19           run out\n",
      "1996-05-23               lbw\n",
      "1996-05-25           run out\n",
      "1996-05-26            caught\n",
      "1996-08-28           run out\n",
      "1996-09-01            caught\n",
      "1996-09-06            caught\n",
      "1996-09-16           not out\n",
      "1996-09-17            caught\n",
      "1996-09-18            caught\n",
      "1996-09-21            caught\n",
      "1996-09-23           run out\n",
      "1996-10-17            caught\n",
      "1996-10-21               lbw\n",
      "1996-10-23            caught\n",
      "1996-10-29               lbw\n",
      "1996-11-03            caught\n",
      "1996-11-06            caught\n",
      "1996-12-14           stumped\n",
      "1997-01-23            bowled\n",
      "1997-01-27            caught\n",
      "1997-02-02            bowled\n",
      "1997-02-04            caught\n",
      "1997-02-07            caught\n",
      "1997-02-09            caught\n",
      "1997-02-12            caught\n",
      "1997-02-13            caught\n",
      "1997-02-15            caught\n",
      "1997-04-26            caught\n",
      "1997-04-27           not out\n",
      "1997-04-30            bowled\n",
      "1997-05-03            caught\n",
      "1997-05-14            bowled\n",
      "1997-05-17            caught\n",
      "1997-05-21            caught\n",
      "1997-07-18            bowled\n",
      "1997-07-24            bowled\n",
      "1997-07-26            caught\n",
      "1997-08-17            caught\n",
      "1997-08-20               lbw\n",
      "1997-08-23            caught\n",
      "1997-08-24            caught\n",
      "1997-09-13            caught\n",
      "1997-09-14           not out\n",
      "1997-09-18            caught\n",
      "1997-09-20            caught\n",
      "1997-09-21               lbw\n",
      "1997-09-28            bowled\n",
      "1997-09-30            caught\n",
      "1997-10-02            caught\n",
      "1997-12-11           stumped\n",
      "1997-12-14            caught\n",
      "1997-12-16           run out\n",
      "1997-12-22           not out\n",
      "1997-12-28            caught\n",
      "1998-01-10            caught\n",
      "1998-01-11           stumped\n",
      "1998-01-14            bowled\n",
      "1998-01-16            bowled\n",
      "1998-01-18            caught\n",
      "1998-04-01            caught\n",
      "1998-04-05           run out\n",
      "1998-04-07            caught\n",
      "1998-04-09            caught\n",
      "1998-04-14            caught\n",
      "1998-04-17            caught\n",
      "1998-04-19            caught\n",
      "1998-04-20           run out\n",
      "1998-04-22            caught\n",
      "1998-04-24               lbw\n",
      "1998-05-25            caught\n",
      "1998-05-28            caught\n",
      "1998-05-31           not out\n",
      "1998-06-19            caught\n",
      "1998-06-23            caught\n",
      "1998-07-01            caught\n",
      "1998-07-07           stumped\n",
      "1998-09-20            caught\n",
      "1998-09-26           not out\n",
      "1998-09-27            caught\n",
      "1998-09-30            caught\n",
      "1998-10-28           run out\n",
      "1998-10-31            caught\n",
      "1998-11-06            caught\n",
      "1998-11-08           not out\n",
      "1998-11-09            caught\n",
      "1998-11-11            caught\n",
      "1998-11-13           not out\n",
      "1999-01-09            caught\n",
      "1999-01-12            caught\n",
      "1999-01-14           stumped\n",
      "1999-01-16               lbw\n",
      "1999-05-15            caught\n",
      "1999-05-23           not out\n",
      "1999-05-26            bowled\n",
      "1999-05-29            caught\n",
      "1999-06-04            caught\n",
      "1999-06-08            caught\n",
      "1999-06-12            bowled\n",
      "1999-08-23            caught\n",
      "1999-08-25           run out\n",
      "1999-08-29            caught\n",
      "1999-09-04            caught\n",
      "1999-09-07            caught\n",
      "1999-09-08            caught\n",
      "1999-11-05            caught\n",
      "1999-11-08           not out\n",
      "1999-11-11            caught\n",
      "1999-11-14            caught\n",
      "1999-11-17            caught\n",
      "2000-01-10            bowled\n",
      "2000-01-12           run out\n",
      "2000-01-14            caught\n",
      "2000-01-21            bowled\n",
      "2000-01-25            caught\n",
      "2000-01-26            caught\n",
      "2000-01-28            caught\n",
      "2000-01-30            bowled\n",
      "2000-03-09            caught\n",
      "2000-03-12            caught\n",
      "2000-03-15               lbw\n",
      "2000-03-17            caught\n",
      "2000-03-19            caught\n",
      "2000-03-22            bowled\n",
      "2000-03-23               lbw\n",
      "2000-03-26            bowled\n",
      "2000-03-27           run out\n",
      "2000-05-30            caught\n",
      "2000-06-01            caught\n",
      "2000-06-03               lbw\n",
      "2000-10-03               lbw\n",
      "2000-10-07            caught\n",
      "2000-10-13            caught\n",
      "2000-10-15           run out\n",
      "2000-10-20           run out\n",
      "2000-10-22            caught\n",
      "2000-10-26            caught\n",
      "2000-10-27            caught\n",
      "2000-10-29            caught\n",
      "2000-12-02            caught\n",
      "2000-12-05            caught\n",
      "2000-12-08            caught\n",
      "2000-12-11               lbw\n",
      "2000-12-14            bowled\n",
      "2001-03-25           run out\n",
      "2001-03-28            caught\n",
      "2001-03-31            caught\n",
      "2001-04-03            caught\n",
      "2001-04-06            caught\n",
      "2001-06-24           not out\n",
      "2001-06-27            caught\n",
      "2001-06-30           not out\n",
      "2001-07-04           not out\n",
      "2001-07-07            caught\n",
      "2001-10-05            caught\n",
      "2001-10-10            caught\n",
      "2001-10-17            bowled\n",
      "2001-10-19            bowled\n",
      "2001-10-24            caught\n",
      "2001-10-26            bowled\n",
      "2002-01-19            bowled\n",
      "2002-01-22           run out\n",
      "2002-01-25               lbw\n",
      "2002-01-28           not out\n",
      "2002-01-31            caught\n",
      "2002-02-03            caught\n",
      "2002-05-29           not out\n",
      "2002-06-02            bowled\n",
      "2002-06-29               lbw\n",
      "2002-06-30            caught\n",
      "2002-07-04           not out\n",
      "2002-07-06            caught\n",
      "2002-07-09            caught\n",
      "2002-07-11            caught\n",
      "2002-07-13            bowled\n",
      "2002-09-14            caught\n",
      "2002-09-22           not out\n",
      "2002-09-25           run out\n",
      "2002-09-30           not out\n",
      "2003-01-08               lbw\n",
      "2003-01-11            caught\n",
      "2003-01-14            caught\n",
      "2003-02-12            caught\n",
      "2003-02-15               lbw\n",
      "2003-02-19            bowled\n",
      "2003-02-23            bowled\n",
      "2003-02-26            caught\n",
      "2003-03-01            caught\n",
      "2003-03-07            caught\n",
      "2003-03-10            caught\n",
      "2003-03-14            caught\n",
      "2003-03-20            caught\n",
      "2003-03-23            caught\n",
      "2003-10-23           not out\n",
      "2003-10-26            caught\n",
      "2003-11-01            bowled\n",
      "2003-11-06               lbw\n",
      "2003-11-12            bowled\n",
      "2003-11-15            caught\n",
      "2003-11-18            bowled\n",
      "2004-01-09            caught\n",
      "2004-01-14            bowled\n",
      "2004-01-18            caught\n",
      "2004-02-01            caught\n",
      "2004-02-03            caught\n",
      "2004-02-06            bowled\n",
      "2004-02-08            caught\n",
      "2004-03-13            caught\n",
      "2004-03-16            caught\n",
      "2004-03-19            caught\n",
      "2004-03-21            caught\n",
      "2004-03-24            caught\n",
      "2004-07-16            caught\n",
      "2004-07-18            caught\n",
      "2004-07-21           not out\n",
      "2004-07-25            caught\n",
      "2004-07-27               lbw\n",
      "2004-08-01            bowled\n",
      "2004-11-13           run out\n",
      "2004-12-23            caught\n",
      "2004-12-27            caught\n",
      "2005-04-02            caught\n",
      "2005-04-05           run out\n",
      "2005-04-09            caught\n",
      "2005-04-12            bowled\n",
      "2005-04-15            caught\n",
      "2005-04-17            bowled\n",
      "2005-10-25            caught\n",
      "2005-10-28           not out\n",
      "2005-10-31            caught\n",
      "2005-11-03            bowled\n",
      "2005-11-09            caught\n",
      "2005-11-12            caught\n",
      "2005-11-16            caught\n",
      "2005-11-19            caught\n",
      "2005-11-25            caught\n",
      "2005-11-28            caught\n",
      "2006-02-06               lbw\n",
      "2006-02-11            caught\n",
      "2006-02-13            caught\n",
      "2006-02-16            caught\n",
      "2006-08-18           not out\n",
      "2006-09-14           not out\n",
      "2006-09-16            caught\n",
      "2006-09-20           run out\n",
      "2006-09-22            caught\n",
      "2006-10-15               lbw\n",
      "2006-10-26            bowled\n",
      "2006-10-29            caught\n",
      "2006-11-22            bowled\n",
      "2006-11-26            caught\n",
      "2006-11-29            caught\n",
      "2006-12-03            caught\n",
      "2007-01-21               lbw\n",
      "2007-01-24            caught\n",
      "2007-01-27            caught\n",
      "2007-01-31           not out\n",
      "2007-02-11           stumped\n",
      "2007-02-14            bowled\n",
      "2007-03-17            caught\n",
      "2007-03-19           not out\n",
      "2007-03-23            bowled\n",
      "2007-06-23            bowled\n",
      "2007-06-26           run out\n",
      "2007-06-29            bowled\n",
      "2007-07-01            caught\n",
      "2007-08-21            caught\n",
      "2007-08-24            caught\n",
      "2007-08-27            caught\n",
      "2007-08-30            caught\n",
      "2007-09-02            caught\n",
      "2007-09-05            caught\n",
      "2007-09-08            caught\n",
      "2007-09-29               lbw\n",
      "2007-10-02            caught\n",
      "2007-10-05            bowled\n",
      "2007-10-08           run out\n",
      "2007-10-11            caught\n",
      "2007-10-14           stumped\n",
      "2007-10-17            bowled\n",
      "2007-11-05               lbw\n",
      "2007-11-08            caught\n",
      "2007-11-11            caught\n",
      "2007-11-15            bowled\n",
      "2007-11-18            caught\n",
      "2008-02-03        hit wicket\n",
      "2008-02-05            bowled\n",
      "2008-02-10            caught\n",
      "2008-02-12            caught\n",
      "2008-02-17               lbw\n",
      "2008-02-19            bowled\n",
      "2008-02-24               lbw\n",
      "2008-02-26            caught\n",
      "2008-03-02           not out\n",
      "2008-03-04            caught\n",
      "2008-11-23            bowled\n",
      "2008-11-26            bowled\n",
      "2009-01-28               lbw\n",
      "2009-01-31               lbw\n",
      "2009-02-03               lbw\n",
      "2009-03-03            caught\n",
      "2009-03-06               lbw\n",
      "2009-03-08    retired notout\n",
      "2009-09-11            caught\n",
      "2009-09-12            caught\n",
      "2009-09-14               lbw\n",
      "2009-09-26            caught\n",
      "2009-10-25            caught\n",
      "2009-10-28            caught\n",
      "2009-10-31           run out\n",
      "2009-11-02               lbw\n",
      "2009-11-05            caught\n",
      "2009-11-08            caught\n",
      "2009-12-15            bowled\n",
      "2009-12-18           stumped\n",
      "2009-12-21           not out\n",
      "2009-12-24            caught\n",
      "2010-02-21           run out\n",
      "2010-02-24           not out\n",
      "2011-01-12            caught\n",
      "2011-01-15            bowled\n",
      "2011-02-19           run out\n",
      "2011-02-27            caught\n",
      "2011-03-06               lbw\n",
      "2011-03-09            caught\n",
      "2011-03-12            caught\n",
      "2011-03-20            caught\n",
      "2011-03-24            caught\n",
      "2011-03-30            caught\n",
      "2011-04-02            caught\n",
      "2012-02-05            caught\n",
      "2012-02-08            bowled\n",
      "2012-02-14            caught\n",
      "2012-02-19            caught\n",
      "2012-02-21            bowled\n",
      "2012-02-26           run out\n",
      "2012-02-28               lbw\n",
      "2012-03-13            caught\n",
      "2012-03-16            caught\n",
      "2012-03-18            caught\n"
     ]
    }
   ],
   "source": [
    "print(innings['Dismissal'].to_string())"
   ]
  },
  {
   "cell_type": "code",
   "execution_count": 563,
   "metadata": {},
   "outputs": [],
   "source": [
    "# Function to calculate Runs, BF and SR for every year\n",
    "def yearly(year):\n",
    "    return innings.loc[str(year), ['Runs', 'BF']].sum()"
   ]
  },
  {
   "cell_type": "code",
   "execution_count": 564,
   "metadata": {},
   "outputs": [
    {
     "data": {
      "text/plain": [
       "Runs    0\n",
       "BF      2\n",
       "dtype: int64"
      ]
     },
     "execution_count": 564,
     "metadata": {},
     "output_type": "execute_result"
    }
   ],
   "source": [
    "yearly(1989)"
   ]
  },
  {
   "cell_type": "code",
   "execution_count": 565,
   "metadata": {},
   "outputs": [
    {
     "data": {
      "text/plain": [
       "Runs    239\n",
       "BF      242\n",
       "dtype: int64"
      ]
     },
     "execution_count": 565,
     "metadata": {},
     "output_type": "execute_result"
    }
   ],
   "source": [
    "yearly(1990)"
   ]
  },
  {
   "cell_type": "code",
   "execution_count": 566,
   "metadata": {},
   "outputs": [],
   "source": [
    "yearwise = {}\n",
    "for i in range(1989, 2013):\n",
    "    yearwise[str(i)] = yearly(i)\n",
    "    #print(yearwise)"
   ]
  },
  {
   "cell_type": "code",
   "execution_count": 567,
   "metadata": {},
   "outputs": [],
   "source": [
    "yearly_df = pd.DataFrame(yearwise).transpose()"
   ]
  },
  {
   "cell_type": "code",
   "execution_count": 568,
   "metadata": {},
   "outputs": [],
   "source": [
    "yearly_df.index = pd.to_datetime(yearly_df.index)"
   ]
  },
  {
   "cell_type": "code",
   "execution_count": 569,
   "metadata": {},
   "outputs": [
    {
     "data": {
      "text/plain": [
       "DatetimeIndex(['1989-01-01', '1990-01-01', '1991-01-01', '1992-01-01',\n",
       "               '1993-01-01', '1994-01-01', '1995-01-01', '1996-01-01',\n",
       "               '1997-01-01', '1998-01-01', '1999-01-01', '2000-01-01',\n",
       "               '2001-01-01', '2002-01-01', '2003-01-01', '2004-01-01',\n",
       "               '2005-01-01', '2006-01-01', '2007-01-01', '2008-01-01',\n",
       "               '2009-01-01', '2010-01-01', '2011-01-01', '2012-01-01'],\n",
       "              dtype='datetime64[ns]', freq=None)"
      ]
     },
     "execution_count": 569,
     "metadata": {},
     "output_type": "execute_result"
    }
   ],
   "source": [
    "yearly_df.index"
   ]
  },
  {
   "cell_type": "code",
   "execution_count": 570,
   "metadata": {},
   "outputs": [
    {
     "data": {
      "text/html": [
       "<div>\n",
       "<style scoped>\n",
       "    .dataframe tbody tr th:only-of-type {\n",
       "        vertical-align: middle;\n",
       "    }\n",
       "\n",
       "    .dataframe tbody tr th {\n",
       "        vertical-align: top;\n",
       "    }\n",
       "\n",
       "    .dataframe thead th {\n",
       "        text-align: right;\n",
       "    }\n",
       "</style>\n",
       "<table border=\"1\" class=\"dataframe\">\n",
       "  <thead>\n",
       "    <tr style=\"text-align: right;\">\n",
       "      <th></th>\n",
       "      <th>Runs</th>\n",
       "      <th>BF</th>\n",
       "    </tr>\n",
       "  </thead>\n",
       "  <tbody>\n",
       "    <tr>\n",
       "      <th>1989-01-01</th>\n",
       "      <td>0</td>\n",
       "      <td>2</td>\n",
       "    </tr>\n",
       "    <tr>\n",
       "      <th>1990-01-01</th>\n",
       "      <td>239</td>\n",
       "      <td>242</td>\n",
       "    </tr>\n",
       "    <tr>\n",
       "      <th>1991-01-01</th>\n",
       "      <td>417</td>\n",
       "      <td>560</td>\n",
       "    </tr>\n",
       "    <tr>\n",
       "      <th>1992-01-01</th>\n",
       "      <td>704</td>\n",
       "      <td>1019</td>\n",
       "    </tr>\n",
       "    <tr>\n",
       "      <th>1993-01-01</th>\n",
       "      <td>319</td>\n",
       "      <td>436</td>\n",
       "    </tr>\n",
       "  </tbody>\n",
       "</table>\n",
       "</div>"
      ],
      "text/plain": [
       "            Runs    BF\n",
       "1989-01-01     0     2\n",
       "1990-01-01   239   242\n",
       "1991-01-01   417   560\n",
       "1992-01-01   704  1019\n",
       "1993-01-01   319   436"
      ]
     },
     "execution_count": 570,
     "metadata": {},
     "output_type": "execute_result"
    }
   ],
   "source": [
    "yearly_df.head()"
   ]
  },
  {
   "cell_type": "code",
   "execution_count": 599,
   "metadata": {},
   "outputs": [],
   "source": [
    "yearly_df['Matches'] = innings['Runs'].resample('A').count().values"
   ]
  },
  {
   "cell_type": "code",
   "execution_count": 600,
   "metadata": {},
   "outputs": [
    {
     "data": {
      "text/html": [
       "<div>\n",
       "<style scoped>\n",
       "    .dataframe tbody tr th:only-of-type {\n",
       "        vertical-align: middle;\n",
       "    }\n",
       "\n",
       "    .dataframe tbody tr th {\n",
       "        vertical-align: top;\n",
       "    }\n",
       "\n",
       "    .dataframe thead th {\n",
       "        text-align: right;\n",
       "    }\n",
       "</style>\n",
       "<table border=\"1\" class=\"dataframe\">\n",
       "  <thead>\n",
       "    <tr style=\"text-align: right;\">\n",
       "      <th></th>\n",
       "      <th>Runs</th>\n",
       "      <th>BF</th>\n",
       "      <th>Matches</th>\n",
       "      <th>NotOut</th>\n",
       "      <th>Out</th>\n",
       "      <th>Average</th>\n",
       "      <th>SR</th>\n",
       "      <th>Avg_SR</th>\n",
       "    </tr>\n",
       "    <tr>\n",
       "      <th>Year</th>\n",
       "      <th></th>\n",
       "      <th></th>\n",
       "      <th></th>\n",
       "      <th></th>\n",
       "      <th></th>\n",
       "      <th></th>\n",
       "      <th></th>\n",
       "      <th></th>\n",
       "    </tr>\n",
       "  </thead>\n",
       "  <tbody>\n",
       "    <tr>\n",
       "      <th>1989-01-01</th>\n",
       "      <td>0</td>\n",
       "      <td>2</td>\n",
       "      <td>1</td>\n",
       "      <td>0</td>\n",
       "      <td>1</td>\n",
       "      <td>0.00</td>\n",
       "      <td>0.0</td>\n",
       "      <td>0.00</td>\n",
       "    </tr>\n",
       "    <tr>\n",
       "      <th>1990-01-01</th>\n",
       "      <td>239</td>\n",
       "      <td>242</td>\n",
       "      <td>10</td>\n",
       "      <td>0</td>\n",
       "      <td>10</td>\n",
       "      <td>23.90</td>\n",
       "      <td>98.8</td>\n",
       "      <td>122.70</td>\n",
       "    </tr>\n",
       "    <tr>\n",
       "      <th>1991-01-01</th>\n",
       "      <td>417</td>\n",
       "      <td>560</td>\n",
       "      <td>14</td>\n",
       "      <td>2</td>\n",
       "      <td>12</td>\n",
       "      <td>34.75</td>\n",
       "      <td>74.5</td>\n",
       "      <td>109.25</td>\n",
       "    </tr>\n",
       "    <tr>\n",
       "      <th>1992-01-01</th>\n",
       "      <td>704</td>\n",
       "      <td>1019</td>\n",
       "      <td>20</td>\n",
       "      <td>2</td>\n",
       "      <td>18</td>\n",
       "      <td>39.11</td>\n",
       "      <td>69.1</td>\n",
       "      <td>108.21</td>\n",
       "    </tr>\n",
       "    <tr>\n",
       "      <th>1993-01-01</th>\n",
       "      <td>319</td>\n",
       "      <td>436</td>\n",
       "      <td>17</td>\n",
       "      <td>4</td>\n",
       "      <td>13</td>\n",
       "      <td>24.54</td>\n",
       "      <td>73.2</td>\n",
       "      <td>97.74</td>\n",
       "    </tr>\n",
       "  </tbody>\n",
       "</table>\n",
       "</div>"
      ],
      "text/plain": [
       "            Runs    BF  Matches  NotOut  Out  Average    SR  Avg_SR\n",
       "Year                                                               \n",
       "1989-01-01     0     2        1       0    1     0.00   0.0    0.00\n",
       "1990-01-01   239   242       10       0   10    23.90  98.8  122.70\n",
       "1991-01-01   417   560       14       2   12    34.75  74.5  109.25\n",
       "1992-01-01   704  1019       20       2   18    39.11  69.1  108.21\n",
       "1993-01-01   319   436       17       4   13    24.54  73.2   97.74"
      ]
     },
     "execution_count": 600,
     "metadata": {},
     "output_type": "execute_result"
    }
   ],
   "source": [
    "yearly_df.head()"
   ]
  },
  {
   "cell_type": "code",
   "execution_count": 601,
   "metadata": {},
   "outputs": [
    {
     "data": {
      "text/plain": [
       "Start Date\n",
       "1991-12-31    2\n",
       "1992-12-31    2\n",
       "1993-12-31    4\n",
       "1994-12-31    2\n",
       "1995-12-31    1\n",
       "1996-12-31    2\n",
       "1997-12-31    3\n",
       "1998-12-31    4\n",
       "1999-12-31    2\n",
       "2000-12-31    0\n",
       "2001-12-31    3\n",
       "2002-12-31    5\n",
       "2003-12-31    1\n",
       "2004-12-31    1\n",
       "2005-12-31    1\n",
       "2006-12-31    2\n",
       "2007-12-31    2\n",
       "2008-12-31    1\n",
       "2009-12-31    1\n",
       "2010-12-31    1\n",
       "Freq: A-DEC, Name: Dismissal, dtype: int64"
      ]
     },
     "execution_count": 601,
     "metadata": {},
     "output_type": "execute_result"
    }
   ],
   "source": [
    "innings[innings['Dismissal'] == 'not out'].resample('A').count().Dismissal"
   ]
  },
  {
   "cell_type": "code",
   "execution_count": 602,
   "metadata": {},
   "outputs": [],
   "source": [
    "# Determining the number of Not Outs to calculate average\n",
    "notout = (innings[innings['Dismissal'] == 'not out'].resample('A').count().Dismissal).values"
   ]
  },
  {
   "cell_type": "code",
   "execution_count": 603,
   "metadata": {},
   "outputs": [
    {
     "data": {
      "text/plain": [
       "20"
      ]
     },
     "execution_count": 603,
     "metadata": {},
     "output_type": "execute_result"
    }
   ],
   "source": [
    "len(notout)"
   ]
  },
  {
   "cell_type": "code",
   "execution_count": 604,
   "metadata": {},
   "outputs": [],
   "source": [
    "notout = np.insert(notout, [0,0], [0,0])"
   ]
  },
  {
   "cell_type": "code",
   "execution_count": 605,
   "metadata": {},
   "outputs": [
    {
     "data": {
      "text/plain": [
       "array([0, 0, 2, 2, 4, 2, 1, 2, 3, 4, 2, 0, 3, 5, 1, 1, 1, 2, 2, 1, 1, 1],\n",
       "      dtype=int64)"
      ]
     },
     "execution_count": 605,
     "metadata": {},
     "output_type": "execute_result"
    }
   ],
   "source": [
    "notout"
   ]
  },
  {
   "cell_type": "code",
   "execution_count": 606,
   "metadata": {},
   "outputs": [
    {
     "data": {
      "text/plain": [
       "array([0, 0, 2, 2, 4, 2, 1, 2, 3, 4, 2, 0, 3, 5, 1, 1, 1, 2, 2, 1, 1, 1],\n",
       "      dtype=int64)"
      ]
     },
     "execution_count": 606,
     "metadata": {},
     "output_type": "execute_result"
    }
   ],
   "source": [
    "notout"
   ]
  },
  {
   "cell_type": "code",
   "execution_count": 607,
   "metadata": {},
   "outputs": [],
   "source": [
    "notout = np.append(notout, [0, 0])"
   ]
  },
  {
   "cell_type": "code",
   "execution_count": 608,
   "metadata": {},
   "outputs": [
    {
     "data": {
      "text/plain": [
       "24"
      ]
     },
     "execution_count": 608,
     "metadata": {},
     "output_type": "execute_result"
    }
   ],
   "source": [
    "len(notout)"
   ]
  },
  {
   "cell_type": "code",
   "execution_count": 609,
   "metadata": {},
   "outputs": [
    {
     "data": {
      "text/plain": [
       "array([0, 0, 2, 2, 4, 2, 1, 2, 3, 4, 2, 0, 3, 5, 1, 1, 1, 2, 2, 1, 1, 1,\n",
       "       0, 0], dtype=int64)"
      ]
     },
     "execution_count": 609,
     "metadata": {},
     "output_type": "execute_result"
    }
   ],
   "source": [
    "notout"
   ]
  },
  {
   "cell_type": "code",
   "execution_count": 610,
   "metadata": {},
   "outputs": [],
   "source": [
    "yearly_df['NotOut'] = notout"
   ]
  },
  {
   "cell_type": "code",
   "execution_count": 611,
   "metadata": {},
   "outputs": [
    {
     "data": {
      "text/html": [
       "<div>\n",
       "<style scoped>\n",
       "    .dataframe tbody tr th:only-of-type {\n",
       "        vertical-align: middle;\n",
       "    }\n",
       "\n",
       "    .dataframe tbody tr th {\n",
       "        vertical-align: top;\n",
       "    }\n",
       "\n",
       "    .dataframe thead th {\n",
       "        text-align: right;\n",
       "    }\n",
       "</style>\n",
       "<table border=\"1\" class=\"dataframe\">\n",
       "  <thead>\n",
       "    <tr style=\"text-align: right;\">\n",
       "      <th></th>\n",
       "      <th>Runs</th>\n",
       "      <th>BF</th>\n",
       "      <th>Matches</th>\n",
       "      <th>NotOut</th>\n",
       "      <th>Out</th>\n",
       "      <th>Average</th>\n",
       "      <th>SR</th>\n",
       "      <th>Avg_SR</th>\n",
       "    </tr>\n",
       "    <tr>\n",
       "      <th>Year</th>\n",
       "      <th></th>\n",
       "      <th></th>\n",
       "      <th></th>\n",
       "      <th></th>\n",
       "      <th></th>\n",
       "      <th></th>\n",
       "      <th></th>\n",
       "      <th></th>\n",
       "    </tr>\n",
       "  </thead>\n",
       "  <tbody>\n",
       "    <tr>\n",
       "      <th>1989-01-01</th>\n",
       "      <td>0</td>\n",
       "      <td>2</td>\n",
       "      <td>1</td>\n",
       "      <td>0</td>\n",
       "      <td>1</td>\n",
       "      <td>0.00</td>\n",
       "      <td>0.0</td>\n",
       "      <td>0.00</td>\n",
       "    </tr>\n",
       "    <tr>\n",
       "      <th>1990-01-01</th>\n",
       "      <td>239</td>\n",
       "      <td>242</td>\n",
       "      <td>10</td>\n",
       "      <td>0</td>\n",
       "      <td>10</td>\n",
       "      <td>23.90</td>\n",
       "      <td>98.8</td>\n",
       "      <td>122.70</td>\n",
       "    </tr>\n",
       "    <tr>\n",
       "      <th>1991-01-01</th>\n",
       "      <td>417</td>\n",
       "      <td>560</td>\n",
       "      <td>14</td>\n",
       "      <td>2</td>\n",
       "      <td>12</td>\n",
       "      <td>34.75</td>\n",
       "      <td>74.5</td>\n",
       "      <td>109.25</td>\n",
       "    </tr>\n",
       "    <tr>\n",
       "      <th>1992-01-01</th>\n",
       "      <td>704</td>\n",
       "      <td>1019</td>\n",
       "      <td>20</td>\n",
       "      <td>2</td>\n",
       "      <td>18</td>\n",
       "      <td>39.11</td>\n",
       "      <td>69.1</td>\n",
       "      <td>108.21</td>\n",
       "    </tr>\n",
       "    <tr>\n",
       "      <th>1993-01-01</th>\n",
       "      <td>319</td>\n",
       "      <td>436</td>\n",
       "      <td>17</td>\n",
       "      <td>4</td>\n",
       "      <td>13</td>\n",
       "      <td>24.54</td>\n",
       "      <td>73.2</td>\n",
       "      <td>97.74</td>\n",
       "    </tr>\n",
       "  </tbody>\n",
       "</table>\n",
       "</div>"
      ],
      "text/plain": [
       "            Runs    BF  Matches  NotOut  Out  Average    SR  Avg_SR\n",
       "Year                                                               \n",
       "1989-01-01     0     2        1       0    1     0.00   0.0    0.00\n",
       "1990-01-01   239   242       10       0   10    23.90  98.8  122.70\n",
       "1991-01-01   417   560       14       2   12    34.75  74.5  109.25\n",
       "1992-01-01   704  1019       20       2   18    39.11  69.1  108.21\n",
       "1993-01-01   319   436       17       4   13    24.54  73.2   97.74"
      ]
     },
     "execution_count": 611,
     "metadata": {},
     "output_type": "execute_result"
    }
   ],
   "source": [
    "yearly_df.head()"
   ]
  },
  {
   "cell_type": "code",
   "execution_count": 612,
   "metadata": {},
   "outputs": [],
   "source": [
    "yearly_df['Out'] = yearly_df['Matches'] - yearly_df['NotOut']"
   ]
  },
  {
   "cell_type": "code",
   "execution_count": 613,
   "metadata": {},
   "outputs": [
    {
     "data": {
      "text/html": [
       "<div>\n",
       "<style scoped>\n",
       "    .dataframe tbody tr th:only-of-type {\n",
       "        vertical-align: middle;\n",
       "    }\n",
       "\n",
       "    .dataframe tbody tr th {\n",
       "        vertical-align: top;\n",
       "    }\n",
       "\n",
       "    .dataframe thead th {\n",
       "        text-align: right;\n",
       "    }\n",
       "</style>\n",
       "<table border=\"1\" class=\"dataframe\">\n",
       "  <thead>\n",
       "    <tr style=\"text-align: right;\">\n",
       "      <th></th>\n",
       "      <th>Runs</th>\n",
       "      <th>BF</th>\n",
       "      <th>Matches</th>\n",
       "      <th>NotOut</th>\n",
       "      <th>Out</th>\n",
       "      <th>Average</th>\n",
       "      <th>SR</th>\n",
       "      <th>Avg_SR</th>\n",
       "    </tr>\n",
       "    <tr>\n",
       "      <th>Year</th>\n",
       "      <th></th>\n",
       "      <th></th>\n",
       "      <th></th>\n",
       "      <th></th>\n",
       "      <th></th>\n",
       "      <th></th>\n",
       "      <th></th>\n",
       "      <th></th>\n",
       "    </tr>\n",
       "  </thead>\n",
       "  <tbody>\n",
       "    <tr>\n",
       "      <th>1989-01-01</th>\n",
       "      <td>0</td>\n",
       "      <td>2</td>\n",
       "      <td>1</td>\n",
       "      <td>0</td>\n",
       "      <td>1</td>\n",
       "      <td>0.00</td>\n",
       "      <td>0.0</td>\n",
       "      <td>0.00</td>\n",
       "    </tr>\n",
       "    <tr>\n",
       "      <th>1990-01-01</th>\n",
       "      <td>239</td>\n",
       "      <td>242</td>\n",
       "      <td>10</td>\n",
       "      <td>0</td>\n",
       "      <td>10</td>\n",
       "      <td>23.90</td>\n",
       "      <td>98.8</td>\n",
       "      <td>122.70</td>\n",
       "    </tr>\n",
       "    <tr>\n",
       "      <th>1991-01-01</th>\n",
       "      <td>417</td>\n",
       "      <td>560</td>\n",
       "      <td>14</td>\n",
       "      <td>2</td>\n",
       "      <td>12</td>\n",
       "      <td>34.75</td>\n",
       "      <td>74.5</td>\n",
       "      <td>109.25</td>\n",
       "    </tr>\n",
       "    <tr>\n",
       "      <th>1992-01-01</th>\n",
       "      <td>704</td>\n",
       "      <td>1019</td>\n",
       "      <td>20</td>\n",
       "      <td>2</td>\n",
       "      <td>18</td>\n",
       "      <td>39.11</td>\n",
       "      <td>69.1</td>\n",
       "      <td>108.21</td>\n",
       "    </tr>\n",
       "    <tr>\n",
       "      <th>1993-01-01</th>\n",
       "      <td>319</td>\n",
       "      <td>436</td>\n",
       "      <td>17</td>\n",
       "      <td>4</td>\n",
       "      <td>13</td>\n",
       "      <td>24.54</td>\n",
       "      <td>73.2</td>\n",
       "      <td>97.74</td>\n",
       "    </tr>\n",
       "  </tbody>\n",
       "</table>\n",
       "</div>"
      ],
      "text/plain": [
       "            Runs    BF  Matches  NotOut  Out  Average    SR  Avg_SR\n",
       "Year                                                               \n",
       "1989-01-01     0     2        1       0    1     0.00   0.0    0.00\n",
       "1990-01-01   239   242       10       0   10    23.90  98.8  122.70\n",
       "1991-01-01   417   560       14       2   12    34.75  74.5  109.25\n",
       "1992-01-01   704  1019       20       2   18    39.11  69.1  108.21\n",
       "1993-01-01   319   436       17       4   13    24.54  73.2   97.74"
      ]
     },
     "execution_count": 613,
     "metadata": {},
     "output_type": "execute_result"
    }
   ],
   "source": [
    "yearly_df.head()"
   ]
  },
  {
   "cell_type": "code",
   "execution_count": 614,
   "metadata": {},
   "outputs": [],
   "source": [
    "yearly_df['Average'] = round(yearly_df['Runs']/yearly_df['Out'], 2)"
   ]
  },
  {
   "cell_type": "code",
   "execution_count": 615,
   "metadata": {},
   "outputs": [
    {
     "data": {
      "text/html": [
       "<div>\n",
       "<style scoped>\n",
       "    .dataframe tbody tr th:only-of-type {\n",
       "        vertical-align: middle;\n",
       "    }\n",
       "\n",
       "    .dataframe tbody tr th {\n",
       "        vertical-align: top;\n",
       "    }\n",
       "\n",
       "    .dataframe thead th {\n",
       "        text-align: right;\n",
       "    }\n",
       "</style>\n",
       "<table border=\"1\" class=\"dataframe\">\n",
       "  <thead>\n",
       "    <tr style=\"text-align: right;\">\n",
       "      <th></th>\n",
       "      <th>Runs</th>\n",
       "      <th>BF</th>\n",
       "      <th>Matches</th>\n",
       "      <th>NotOut</th>\n",
       "      <th>Out</th>\n",
       "      <th>Average</th>\n",
       "      <th>SR</th>\n",
       "      <th>Avg_SR</th>\n",
       "    </tr>\n",
       "    <tr>\n",
       "      <th>Year</th>\n",
       "      <th></th>\n",
       "      <th></th>\n",
       "      <th></th>\n",
       "      <th></th>\n",
       "      <th></th>\n",
       "      <th></th>\n",
       "      <th></th>\n",
       "      <th></th>\n",
       "    </tr>\n",
       "  </thead>\n",
       "  <tbody>\n",
       "    <tr>\n",
       "      <th>1989-01-01</th>\n",
       "      <td>0</td>\n",
       "      <td>2</td>\n",
       "      <td>1</td>\n",
       "      <td>0</td>\n",
       "      <td>1</td>\n",
       "      <td>0.00</td>\n",
       "      <td>0.0</td>\n",
       "      <td>0.00</td>\n",
       "    </tr>\n",
       "    <tr>\n",
       "      <th>1990-01-01</th>\n",
       "      <td>239</td>\n",
       "      <td>242</td>\n",
       "      <td>10</td>\n",
       "      <td>0</td>\n",
       "      <td>10</td>\n",
       "      <td>23.90</td>\n",
       "      <td>98.8</td>\n",
       "      <td>122.70</td>\n",
       "    </tr>\n",
       "    <tr>\n",
       "      <th>1991-01-01</th>\n",
       "      <td>417</td>\n",
       "      <td>560</td>\n",
       "      <td>14</td>\n",
       "      <td>2</td>\n",
       "      <td>12</td>\n",
       "      <td>34.75</td>\n",
       "      <td>74.5</td>\n",
       "      <td>109.25</td>\n",
       "    </tr>\n",
       "    <tr>\n",
       "      <th>1992-01-01</th>\n",
       "      <td>704</td>\n",
       "      <td>1019</td>\n",
       "      <td>20</td>\n",
       "      <td>2</td>\n",
       "      <td>18</td>\n",
       "      <td>39.11</td>\n",
       "      <td>69.1</td>\n",
       "      <td>108.21</td>\n",
       "    </tr>\n",
       "    <tr>\n",
       "      <th>1993-01-01</th>\n",
       "      <td>319</td>\n",
       "      <td>436</td>\n",
       "      <td>17</td>\n",
       "      <td>4</td>\n",
       "      <td>13</td>\n",
       "      <td>24.54</td>\n",
       "      <td>73.2</td>\n",
       "      <td>97.74</td>\n",
       "    </tr>\n",
       "  </tbody>\n",
       "</table>\n",
       "</div>"
      ],
      "text/plain": [
       "            Runs    BF  Matches  NotOut  Out  Average    SR  Avg_SR\n",
       "Year                                                               \n",
       "1989-01-01     0     2        1       0    1     0.00   0.0    0.00\n",
       "1990-01-01   239   242       10       0   10    23.90  98.8  122.70\n",
       "1991-01-01   417   560       14       2   12    34.75  74.5  109.25\n",
       "1992-01-01   704  1019       20       2   18    39.11  69.1  108.21\n",
       "1993-01-01   319   436       17       4   13    24.54  73.2   97.74"
      ]
     },
     "execution_count": 615,
     "metadata": {},
     "output_type": "execute_result"
    }
   ],
   "source": [
    "yearly_df.head()"
   ]
  },
  {
   "cell_type": "code",
   "execution_count": 617,
   "metadata": {},
   "outputs": [
    {
     "data": {
      "text/plain": [
       "Text(0.5,1,'Sachin Tendulkar - Average (Yearwise)')"
      ]
     },
     "execution_count": 617,
     "metadata": {},
     "output_type": "execute_result"
    },
    {
     "data": {
      "image/png": "[encoded data removed]",
      "text/plain": [
       "<matplotlib.figure.Figure at 0x26e149c1eb8>"
      ]
     },
     "metadata": {},
     "output_type": "display_data"
    }
   ],
   "source": [
    "plt.bar(yearly_df.index, yearly_df.Average, width = 200)\n",
    "plt.ylim(20,80)\n",
    "plt.xlabel('Year')\n",
    "plt.ylabel('Average')\n",
    "plt.title('Sachin Tendulkar - Average (Yearwise)')"
   ]
  },
  {
   "cell_type": "code",
   "execution_count": 618,
   "metadata": {},
   "outputs": [],
   "source": [
    "yearly_df['SR'] = (yearly_df['Runs']/yearly_df['BF'])*100"
   ]
  },
  {
   "cell_type": "code",
   "execution_count": 619,
   "metadata": {},
   "outputs": [],
   "source": [
    "yearly_df['SR'] = yearly_df.SR.round(1)"
   ]
  },
  {
   "cell_type": "code",
   "execution_count": 620,
   "metadata": {},
   "outputs": [
    {
     "data": {
      "text/html": [
       "<div>\n",
       "<style scoped>\n",
       "    .dataframe tbody tr th:only-of-type {\n",
       "        vertical-align: middle;\n",
       "    }\n",
       "\n",
       "    .dataframe tbody tr th {\n",
       "        vertical-align: top;\n",
       "    }\n",
       "\n",
       "    .dataframe thead th {\n",
       "        text-align: right;\n",
       "    }\n",
       "</style>\n",
       "<table border=\"1\" class=\"dataframe\">\n",
       "  <thead>\n",
       "    <tr style=\"text-align: right;\">\n",
       "      <th></th>\n",
       "      <th>Runs</th>\n",
       "      <th>BF</th>\n",
       "      <th>Matches</th>\n",
       "      <th>NotOut</th>\n",
       "      <th>Out</th>\n",
       "      <th>Average</th>\n",
       "      <th>SR</th>\n",
       "      <th>Avg_SR</th>\n",
       "    </tr>\n",
       "    <tr>\n",
       "      <th>Year</th>\n",
       "      <th></th>\n",
       "      <th></th>\n",
       "      <th></th>\n",
       "      <th></th>\n",
       "      <th></th>\n",
       "      <th></th>\n",
       "      <th></th>\n",
       "      <th></th>\n",
       "    </tr>\n",
       "  </thead>\n",
       "  <tbody>\n",
       "    <tr>\n",
       "      <th>1989-01-01</th>\n",
       "      <td>0</td>\n",
       "      <td>2</td>\n",
       "      <td>1</td>\n",
       "      <td>0</td>\n",
       "      <td>1</td>\n",
       "      <td>0.00</td>\n",
       "      <td>0.0</td>\n",
       "      <td>0.00</td>\n",
       "    </tr>\n",
       "    <tr>\n",
       "      <th>1990-01-01</th>\n",
       "      <td>239</td>\n",
       "      <td>242</td>\n",
       "      <td>10</td>\n",
       "      <td>0</td>\n",
       "      <td>10</td>\n",
       "      <td>23.90</td>\n",
       "      <td>98.8</td>\n",
       "      <td>122.70</td>\n",
       "    </tr>\n",
       "    <tr>\n",
       "      <th>1991-01-01</th>\n",
       "      <td>417</td>\n",
       "      <td>560</td>\n",
       "      <td>14</td>\n",
       "      <td>2</td>\n",
       "      <td>12</td>\n",
       "      <td>34.75</td>\n",
       "      <td>74.5</td>\n",
       "      <td>109.25</td>\n",
       "    </tr>\n",
       "    <tr>\n",
       "      <th>1992-01-01</th>\n",
       "      <td>704</td>\n",
       "      <td>1019</td>\n",
       "      <td>20</td>\n",
       "      <td>2</td>\n",
       "      <td>18</td>\n",
       "      <td>39.11</td>\n",
       "      <td>69.1</td>\n",
       "      <td>108.21</td>\n",
       "    </tr>\n",
       "    <tr>\n",
       "      <th>1993-01-01</th>\n",
       "      <td>319</td>\n",
       "      <td>436</td>\n",
       "      <td>17</td>\n",
       "      <td>4</td>\n",
       "      <td>13</td>\n",
       "      <td>24.54</td>\n",
       "      <td>73.2</td>\n",
       "      <td>97.74</td>\n",
       "    </tr>\n",
       "  </tbody>\n",
       "</table>\n",
       "</div>"
      ],
      "text/plain": [
       "            Runs    BF  Matches  NotOut  Out  Average    SR  Avg_SR\n",
       "Year                                                               \n",
       "1989-01-01     0     2        1       0    1     0.00   0.0    0.00\n",
       "1990-01-01   239   242       10       0   10    23.90  98.8  122.70\n",
       "1991-01-01   417   560       14       2   12    34.75  74.5  109.25\n",
       "1992-01-01   704  1019       20       2   18    39.11  69.1  108.21\n",
       "1993-01-01   319   436       17       4   13    24.54  73.2   97.74"
      ]
     },
     "execution_count": 620,
     "metadata": {},
     "output_type": "execute_result"
    }
   ],
   "source": [
    "yearly_df.head()"
   ]
  },
  {
   "cell_type": "code",
   "execution_count": 621,
   "metadata": {},
   "outputs": [],
   "source": [
    "# naming the index\n",
    "yearly_df.index.name = 'Year'"
   ]
  },
  {
   "cell_type": "code",
   "execution_count": 622,
   "metadata": {
    "scrolled": true
   },
   "outputs": [
    {
     "data": {
      "text/plain": [
       "Text(0.5,1,'Sachin Tendulkar - Runs Scored (Yearwise)')"
      ]
     },
     "execution_count": 622,
     "metadata": {},
     "output_type": "execute_result"
    },
    {
     "data": {
      "image/png": "[encoded data removed]",
      "text/plain": [
       "<matplotlib.figure.Figure at 0x26e14a61780>"
      ]
     },
     "metadata": {},
     "output_type": "display_data"
    }
   ],
   "source": [
    "plt.bar(yearly_df.index, yearly_df.Runs, width = 200)\n",
    "plt.xlabel('Year')\n",
    "plt.ylabel('Runs Scored')\n",
    "plt.title('Sachin Tendulkar - Runs Scored (Yearwise)')"
   ]
  },
  {
   "cell_type": "code",
   "execution_count": 623,
   "metadata": {},
   "outputs": [],
   "source": [
    "yearly_df['Avg_SR'] = yearly_df['Average'] + yearly_df['SR']"
   ]
  },
  {
   "cell_type": "code",
   "execution_count": 624,
   "metadata": {},
   "outputs": [
    {
     "data": {
      "text/plain": [
       "Year\n",
       "1989-01-01      0.00\n",
       "1990-01-01    122.70\n",
       "1991-01-01    109.25\n",
       "1992-01-01    108.21\n",
       "1993-01-01     97.74\n",
       "1994-01-01    135.95\n",
       "1995-01-01    141.76\n",
       "1996-01-01    136.10\n",
       "1997-01-01    115.64\n",
       "1998-01-01    167.51\n",
       "1999-01-01    130.75\n",
       "2000-01-01    120.86\n",
       "2001-01-01    160.84\n",
       "2002-01-01    140.43\n",
       "2003-01-01    144.45\n",
       "2004-01-01    120.70\n",
       "2005-01-01    104.77\n",
       "2006-01-01    121.96\n",
       "2007-01-01    133.10\n",
       "2008-01-01    126.02\n",
       "2009-01-01    145.16\n",
       "2010-01-01    338.20\n",
       "2011-01-01    135.24\n",
       "2012-01-01    112.90\n",
       "Name: Avg_SR, dtype: float64"
      ]
     },
     "execution_count": 624,
     "metadata": {},
     "output_type": "execute_result"
    }
   ],
   "source": [
    "yearly_df.Avg_SR"
   ]
  },
  {
   "cell_type": "code",
   "execution_count": 626,
   "metadata": {
    "scrolled": true
   },
   "outputs": [
    {
     "data": {
      "text/plain": [
       "Text(0.5,1,'Sachin Tendulkar - ASR (Average + SR Yearwise)')"
      ]
     },
     "execution_count": 626,
     "metadata": {},
     "output_type": "execute_result"
    },
    {
     "data": {
      "image/png": "[encoded data removed]",
      "text/plain": [
       "<matplotlib.figure.Figure at 0x26e149c12b0>"
      ]
     },
     "metadata": {},
     "output_type": "display_data"
    }
   ],
   "source": [
    "plt.bar(yearly_df.index, yearly_df.Avg_SR, width = 200)\n",
    "plt.ylim(70, 200)\n",
    "plt.xlabel('Year')\n",
    "plt.ylabel('ASR')\n",
    "plt.title('Sachin Tendulkar - ASR (Average + SR Yearwise)')"
   ]
  },
  {
   "cell_type": "code",
   "execution_count": 627,
   "metadata": {},
   "outputs": [
    {
     "data": {
      "text/plain": [
       "0.71"
      ]
     },
     "execution_count": 627,
     "metadata": {},
     "output_type": "execute_result"
    }
   ],
   "source": [
    "(yearly_df[yearly_df.Avg_SR > 120].Avg_SR.count()/len(yearly_df.index)).round(2)"
   ]
  },
  {
   "cell_type": "code",
   "execution_count": 628,
   "metadata": {},
   "outputs": [
    {
     "data": {
      "text/html": [
       "<div>\n",
       "<style scoped>\n",
       "    .dataframe tbody tr th:only-of-type {\n",
       "        vertical-align: middle;\n",
       "    }\n",
       "\n",
       "    .dataframe tbody tr th {\n",
       "        vertical-align: top;\n",
       "    }\n",
       "\n",
       "    .dataframe thead th {\n",
       "        text-align: right;\n",
       "    }\n",
       "</style>\n",
       "<table border=\"1\" class=\"dataframe\">\n",
       "  <thead>\n",
       "    <tr style=\"text-align: right;\">\n",
       "      <th></th>\n",
       "      <th>Span</th>\n",
       "      <th>Mat</th>\n",
       "      <th>Inns</th>\n",
       "      <th>NO</th>\n",
       "      <th>Runs</th>\n",
       "      <th>HS</th>\n",
       "      <th>Ave</th>\n",
       "      <th>BF</th>\n",
       "      <th>SR</th>\n",
       "      <th>100</th>\n",
       "      <th>50</th>\n",
       "      <th>0</th>\n",
       "      <th>4s</th>\n",
       "      <th>6s</th>\n",
       "    </tr>\n",
       "    <tr>\n",
       "      <th></th>\n",
       "      <th></th>\n",
       "      <th></th>\n",
       "      <th></th>\n",
       "      <th></th>\n",
       "      <th></th>\n",
       "      <th></th>\n",
       "      <th></th>\n",
       "      <th></th>\n",
       "      <th></th>\n",
       "      <th></th>\n",
       "      <th></th>\n",
       "      <th></th>\n",
       "      <th></th>\n",
       "      <th></th>\n",
       "    </tr>\n",
       "  </thead>\n",
       "  <tbody>\n",
       "    <tr>\n",
       "      <th>Overall</th>\n",
       "      <td>1989-2012</td>\n",
       "      <td>463</td>\n",
       "      <td>452</td>\n",
       "      <td>41</td>\n",
       "      <td>18426</td>\n",
       "      <td>200*</td>\n",
       "      <td>44.83</td>\n",
       "      <td>21367</td>\n",
       "      <td>86.23</td>\n",
       "      <td>49</td>\n",
       "      <td>96</td>\n",
       "      <td>20</td>\n",
       "      <td>2016</td>\n",
       "      <td>195</td>\n",
       "    </tr>\n",
       "  </tbody>\n",
       "</table>\n",
       "</div>"
      ],
      "text/plain": [
       "              Span  Mat Inns  NO   Runs    HS    Ave     BF     SR 100  50  \\\n",
       "                                                                             \n",
       "Overall  1989-2012  463  452  41  18426  200*  44.83  21367  86.23  49  96   \n",
       "\n",
       "          0    4s   6s  \n",
       "                        \n",
       "Overall  20  2016  195  "
      ]
     },
     "execution_count": 628,
     "metadata": {},
     "output_type": "execute_result"
    }
   ],
   "source": [
    "overall"
   ]
  },
  {
   "cell_type": "code",
   "execution_count": 630,
   "metadata": {},
   "outputs": [],
   "source": [
    "century = innings[innings['Runs'] > 99].Runs.resample('A').count()"
   ]
  },
  {
   "cell_type": "code",
   "execution_count": 631,
   "metadata": {},
   "outputs": [],
   "source": [
    "century = century.values\n",
    "century = np.insert(century, [0,0,0,0,0], [0,0,0,0,0])"
   ]
  },
  {
   "cell_type": "code",
   "execution_count": 632,
   "metadata": {},
   "outputs": [
    {
     "data": {
      "text/plain": [
       "24"
      ]
     },
     "execution_count": 632,
     "metadata": {},
     "output_type": "execute_result"
    }
   ],
   "source": [
    "len(century)"
   ]
  },
  {
   "cell_type": "code",
   "execution_count": 633,
   "metadata": {},
   "outputs": [
    {
     "data": {
      "text/plain": [
       "array([0, 0, 0, 0, 0, 3, 1, 6, 2, 9, 3, 3, 4, 2, 3, 1, 1, 2, 1, 1, 3, 1,\n",
       "       2, 1], dtype=int64)"
      ]
     },
     "execution_count": 633,
     "metadata": {},
     "output_type": "execute_result"
    }
   ],
   "source": [
    " century"
   ]
  },
  {
   "cell_type": "code",
   "execution_count": 634,
   "metadata": {},
   "outputs": [],
   "source": [
    "yearly_df['100s'] = century"
   ]
  },
  {
   "cell_type": "code",
   "execution_count": 636,
   "metadata": {},
   "outputs": [
    {
     "name": "stderr",
     "output_type": "stream",
     "text": [
      "C:\\Anaconda3\\lib\\site-packages\\ipykernel_launcher.py:11: RuntimeWarning: divide by zero encountered in longlong_scalars\n",
      "  # This is added back by InteractiveShellApp.init_path()\n"
     ]
    },
    {
     "data": {
      "text/plain": [
       "(31.68, 74.32, 106.0, 1679, 62, 1, inf)"
      ]
     },
     "execution_count": 636,
     "metadata": {},
     "output_type": "execute_result"
    }
   ],
   "source": [
    "# Defining function for phase analysis\n",
    "def phaseAnalysis(year_1, year_2):\n",
    "    average = round((yearly_df[str(year_1):str(year_2)].Runs.sum()/(yearly_df[str(year_1):str(year_2)].Out.sum() - 1)), 2)\n",
    "    sr = round(((yearly_df[str(year_1):str(year_2)].Runs.sum()/yearly_df[str(year_1):str(year_2)].BF.sum())*100),2)\n",
    "    avg_sr = round((average + sr), 2)\n",
    "    runs = int(yearly_df[str(year_1):str(year_2)].Runs.sum())\n",
    "    matches = yearly_df[str(year_1):str(year_2)].Matches.sum()\n",
    "    slice = yearly_df[str(year_1):str(year_2)]\n",
    "    thousand = slice[slice.Runs > 500].Runs.count()\n",
    "    try:\n",
    "        match_per_century = round((slice['Matches'].sum()/slice['100s'].sum()), 1)\n",
    "    except ZeroDivisionError:\n",
    "        match_per_century = float('Inf')\n",
    "    return (average, sr, avg_sr, runs, matches, thousand, match_per_century)\n",
    "\n",
    "phaseAnalysis(1989, 1993)"
   ]
  },
  {
   "cell_type": "code",
   "execution_count": 651,
   "metadata": {},
   "outputs": [
    {
     "name": "stderr",
     "output_type": "stream",
     "text": [
      "C:\\Anaconda3\\lib\\site-packages\\ipykernel_launcher.py:11: RuntimeWarning: divide by zero encountered in longlong_scalars\n",
      "  # This is added back by InteractiveShellApp.init_path()\n"
     ]
    }
   ],
   "source": [
    "phase_i = phaseAnalysis(1989, 1993)\n",
    "phase_ii = phaseAnalysis(1994, 1997)\n",
    "phase_iii = phaseAnalysis(1998, 2004)\n",
    "phase_iv = phaseAnalysis(2005, 2006)\n",
    "phase_v = phaseAnalysis(2007, 2012)\n",
    "\n",
    "# using a dictionary to practice storing dta and converting it later into a dataframe\n",
    "phase_dict = {}\n",
    "phase_dict['phase_i'] = phase_i\n",
    "phase_dict['phase_ii'] = phase_ii\n",
    "phase_dict['phase_iii'] = phase_iii\n",
    "phase_dict['phase_iv'] = phase_iv\n",
    "phase_dict['phase_v'] = phase_v"
   ]
  },
  {
   "cell_type": "code",
   "execution_count": 652,
   "metadata": {},
   "outputs": [
    {
     "data": {
      "text/plain": [
       "{'phase_i': (31.68, 74.32, 106.0, 1679, 62, 1, inf),\n",
       " 'phase_ii': (43.28, 86.36, 129.64, 4155, 105, 3, 8.8),\n",
       " 'phase_iii': (51.43, 89.25, 140.68, 7663, 166, 7, 6.6),\n",
       " 'phase_iv': (37.14, 77.15, 114.29, 1040, 32, 1, 10.7),\n",
       " 'phase_v': (48.01, 89.14, 137.15, 3889, 87, 3, 9.7)}"
      ]
     },
     "execution_count": 652,
     "metadata": {},
     "output_type": "execute_result"
    }
   ],
   "source": [
    "phase_dict"
   ]
  },
  {
   "cell_type": "code",
   "execution_count": 653,
   "metadata": {},
   "outputs": [],
   "source": [
    "phase_df = pd.DataFrame(phase_dict)"
   ]
  },
  {
   "cell_type": "code",
   "execution_count": 654,
   "metadata": {},
   "outputs": [],
   "source": [
    "phase_df.iloc[3:6, :] = phase_df.iloc[3:6,:].astype(int)"
   ]
  },
  {
   "cell_type": "code",
   "execution_count": 655,
   "metadata": {},
   "outputs": [
    {
     "name": "stderr",
     "output_type": "stream",
     "text": [
      "C:\\Anaconda3\\lib\\site-packages\\ipykernel_launcher.py:7: SettingWithCopyWarning: \n",
      "A value is trying to be set on a copy of a slice from a DataFrame\n",
      "\n",
      "See the caveats in the documentation: http://pandas.pydata.org/pandas-docs/stable/indexing.html#indexing-view-versus-copy\n",
      "  import sys\n"
     ]
    }
   ],
   "source": [
    "phase_df = phase_df.transpose()\n",
    "phase_col = ['Average', 'SR', 'ASR', 'Runs', 'Matches', 'Runs_1000', 'Match_per_Century']\n",
    "phase_df = phase_df.rename(columns = {0: phase_col[0], 1: phase_col[1], 2: phase_col[2], 3: phase_col[3], 4: phase_col[4], 5: phase_col[5], 6: phase_col[6]})\n",
    "phase_df['Phase'] = ['Phase_I', 'Phase_II', 'Phase_III', 'Phase_IV', 'Phase_V']\n",
    "phase_df.set_index('Phase', drop = True, inplace =  True)\n",
    "phase_df[['Runs', 'Matches', 'Runs_1000']] = phase_df[['Runs', 'Matches', 'Runs_1000']].astype('int')\n",
    "phase_df['Match_per_Century'][0] = 'NaN'"
   ]
  },
  {
   "cell_type": "code",
   "execution_count": 656,
   "metadata": {},
   "outputs": [
    {
     "data": {
      "text/plain": [
       "numpy.int32"
      ]
     },
     "execution_count": 656,
     "metadata": {},
     "output_type": "execute_result"
    }
   ],
   "source": [
    "type(phase_df['Runs'][2])"
   ]
  },
  {
   "cell_type": "code",
   "execution_count": 657,
   "metadata": {},
   "outputs": [],
   "source": [
    "X = phase_dict.keys()\n",
    "phase_avg = []\n",
    "phase_sr = []\n",
    "phase_avg_sr = []\n",
    "for k in phase_dict:\n",
    "    phase_avg.append(phase_dict[k][0])\n",
    "    phase_sr.append(phase_dict[k][1])\n",
    "    phase_avg_sr.append(phase_dict[k][2])"
   ]
  },
  {
   "cell_type": "code",
   "execution_count": 658,
   "metadata": {},
   "outputs": [
    {
     "data": {
      "text/plain": [
       "<matplotlib.collections.LineCollection at 0x26e15cc9d30>"
      ]
     },
     "execution_count": 658,
     "metadata": {},
     "output_type": "execute_result"
    },
    {
     "data": {
      "image/png": "[encoded data removed]",
      "text/plain": [
       "<matplotlib.figure.Figure at 0x26e15e44eb8>"
      ]
     },
     "metadata": {},
     "output_type": "display_data"
    }
   ],
   "source": [
    "ax = plt.subplot(1,1,1)\n",
    "ax.bar(x = list(X) , height = phase_avg, color = ['k', 'k', 'g', 'm', 'k'])\n",
    "plt.ylim(10, 60)\n",
    "matplotlib.axes.Axes.hlines(ax, y = 30, xmin = 0, xmax = 4, color = 'r')\n",
    "\n"
   ]
  },
  {
   "cell_type": "markdown",
   "metadata": {},
   "source": [
    "**Sachin Ramesh Tendulkar**\n",
    "A man. A god. A legend.\n",
    "Tendulkar is a presence that has shaped not just our cricket but us, India, as a country. We have been privileged to witness 24 years of sheer genuius that transformed a sport into into an art form. Wielding a whopping 1.5 kg willow as a wizard's wand, he beat the bowlers blue and bruised left, right and centre. For context, Chris Gayle uses a bat weighing 1.3 kg!\n",
    "\n",
    "Enough has been written and said about the little Master. Every aspect of his life and carrer has been scrutinised, discussed and debated to death.\n",
    "\n",
    "Here, I deep-dived into his innings by innings data for ODIs (scraped from Cricinfo, where else!), sliced, diced and aggregated them year-wise. It was fascinating to see some interesting trends emerge from this play of numbers as if the numbers themselves were anxious to validate what we have all believed.\n",
    "Based on this analysis, there emerged 5 distinct phases of Sachin's career. We will be discussing each of them one by one and also the some of most influential ODI innings of each phase. "
   ]
  },
  {
   "cell_type": "code",
   "execution_count": 659,
   "metadata": {},
   "outputs": [
    {
     "data": {
      "text/html": [
       "<div>\n",
       "<style scoped>\n",
       "    .dataframe tbody tr th:only-of-type {\n",
       "        vertical-align: middle;\n",
       "    }\n",
       "\n",
       "    .dataframe tbody tr th {\n",
       "        vertical-align: top;\n",
       "    }\n",
       "\n",
       "    .dataframe thead th {\n",
       "        text-align: right;\n",
       "    }\n",
       "</style>\n",
       "<table border=\"1\" class=\"dataframe\">\n",
       "  <thead>\n",
       "    <tr style=\"text-align: right;\">\n",
       "      <th></th>\n",
       "      <th>Span</th>\n",
       "      <th>Mat</th>\n",
       "      <th>Inns</th>\n",
       "      <th>NO</th>\n",
       "      <th>Runs</th>\n",
       "      <th>HS</th>\n",
       "      <th>Ave</th>\n",
       "      <th>BF</th>\n",
       "      <th>SR</th>\n",
       "      <th>100</th>\n",
       "      <th>50</th>\n",
       "      <th>0</th>\n",
       "      <th>4s</th>\n",
       "      <th>6s</th>\n",
       "    </tr>\n",
       "    <tr>\n",
       "      <th></th>\n",
       "      <th></th>\n",
       "      <th></th>\n",
       "      <th></th>\n",
       "      <th></th>\n",
       "      <th></th>\n",
       "      <th></th>\n",
       "      <th></th>\n",
       "      <th></th>\n",
       "      <th></th>\n",
       "      <th></th>\n",
       "      <th></th>\n",
       "      <th></th>\n",
       "      <th></th>\n",
       "      <th></th>\n",
       "    </tr>\n",
       "  </thead>\n",
       "  <tbody>\n",
       "    <tr>\n",
       "      <th>Overall</th>\n",
       "      <td>1989-2012</td>\n",
       "      <td>463</td>\n",
       "      <td>452</td>\n",
       "      <td>41</td>\n",
       "      <td>18426</td>\n",
       "      <td>200*</td>\n",
       "      <td>44.83</td>\n",
       "      <td>21367</td>\n",
       "      <td>86.23</td>\n",
       "      <td>49</td>\n",
       "      <td>96</td>\n",
       "      <td>20</td>\n",
       "      <td>2016</td>\n",
       "      <td>195</td>\n",
       "    </tr>\n",
       "  </tbody>\n",
       "</table>\n",
       "</div>"
      ],
      "text/plain": [
       "              Span  Mat Inns  NO   Runs    HS    Ave     BF     SR 100  50  \\\n",
       "                                                                             \n",
       "Overall  1989-2012  463  452  41  18426  200*  44.83  21367  86.23  49  96   \n",
       "\n",
       "          0    4s   6s  \n",
       "                        \n",
       "Overall  20  2016  195  "
      ]
     },
     "execution_count": 659,
     "metadata": {},
     "output_type": "execute_result"
    }
   ],
   "source": [
    "# Overall Statistics\n",
    "overall"
   ]
  },
  {
   "cell_type": "markdown",
   "metadata": {},
   "source": [
    "**Phase I: Scene I - The Prologue/The Initiation - (1989-1993)**\n",
    "\n",
    "A short-statured, curly-haired figure walked out to the centre on 18 December 1989 to face the Imram-Wasim-Wakar-Qadir quartet. And he walked back to the pavillion on the second ball for a glorious duck. It was an anti-climax of sorts and few people remember his debut. But, it was the exhibition match before this debut and what transpired there has become a part of cricketing folklore. After being taunted by Abdul Qadir, Sachin smashed the leg-spinning maestro for 28 runs and everyone took notice.\n",
    "\n",
    "Sachin's initiation was one of trial by fire. He consistently batted at positions in the middle and lower-middle order. This can be seen in the barplot that follows: (Plot 1 - Frequency by Position)\n",
    "\n",
    "He struggled to get going throughout this phase as is evident from his overall average in the low 30s and strike rate in low 70s. His ASR score (a metric defined as sum of Average and Strike Rate as an indicator of impact, speed of scoring and consistency) was 106, definitely low for a player of his caliber. (Stats 1)\n",
    "\n",
    "In this phase, Sachin sparkled occassionally such as as his 52 notout in 40 balls against Pakistan in Sharjah (Stats 2). A beginning towards a long and era defining career had been made. The talent and potential were there but just not being utilised to its maximum."
   ]
  },
  {
   "cell_type": "code",
   "execution_count": 660,
   "metadata": {},
   "outputs": [
    {
     "data": {
      "text/plain": [
       "<matplotlib.axes._subplots.AxesSubplot at 0x26e148f5a20>"
      ]
     },
     "execution_count": 660,
     "metadata": {},
     "output_type": "execute_result"
    },
    {
     "data": {
      "image/png": "[encoded data removed]",
      "text/plain": [
       "<matplotlib.figure.Figure at 0x26e15e4ac50>"
      ]
     },
     "metadata": {},
     "output_type": "display_data"
    }
   ],
   "source": [
    "# Plot 1: Phase I (1989-1993) Frequency by Position\n",
    "innings.loc['1989' : '1993', 'Pos'].value_counts().plot(kind = 'bar', title = 'Frequency by Position (1989-1993)')"
   ]
  },
  {
   "cell_type": "code",
   "execution_count": 661,
   "metadata": {},
   "outputs": [
    {
     "data": {
      "text/html": [
       "<div>\n",
       "<style scoped>\n",
       "    .dataframe tbody tr th:only-of-type {\n",
       "        vertical-align: middle;\n",
       "    }\n",
       "\n",
       "    .dataframe tbody tr th {\n",
       "        vertical-align: top;\n",
       "    }\n",
       "\n",
       "    .dataframe thead th {\n",
       "        text-align: right;\n",
       "    }\n",
       "</style>\n",
       "<table border=\"1\" class=\"dataframe\">\n",
       "  <thead>\n",
       "    <tr style=\"text-align: right;\">\n",
       "      <th></th>\n",
       "      <th>Average</th>\n",
       "      <th>SR</th>\n",
       "      <th>ASR</th>\n",
       "      <th>Runs</th>\n",
       "      <th>Matches</th>\n",
       "      <th>Runs_1000</th>\n",
       "      <th>Match_per_Century</th>\n",
       "    </tr>\n",
       "    <tr>\n",
       "      <th>Phase</th>\n",
       "      <th></th>\n",
       "      <th></th>\n",
       "      <th></th>\n",
       "      <th></th>\n",
       "      <th></th>\n",
       "      <th></th>\n",
       "      <th></th>\n",
       "    </tr>\n",
       "  </thead>\n",
       "  <tbody>\n",
       "    <tr>\n",
       "      <th>Phase_I</th>\n",
       "      <td>31.68</td>\n",
       "      <td>74.32</td>\n",
       "      <td>106.0</td>\n",
       "      <td>1679</td>\n",
       "      <td>62</td>\n",
       "      <td>1</td>\n",
       "      <td>NaN</td>\n",
       "    </tr>\n",
       "  </tbody>\n",
       "</table>\n",
       "</div>"
      ],
      "text/plain": [
       "         Average     SR    ASR  Runs  Matches  Runs_1000  Match_per_Century\n",
       "Phase                                                                      \n",
       "Phase_I    31.68  74.32  106.0  1679       62          1                NaN"
      ]
     },
     "execution_count": 661,
     "metadata": {},
     "output_type": "execute_result"
    }
   ],
   "source": [
    "# Stats 1: Phase I\n",
    "# ASR = Average + Strike Rate(SR)\n",
    "# Runs_1000 = Number of years with more than 1000 runs scored\n",
    "\n",
    "phase_df[ : 'Phase_I']"
   ]
  },
  {
   "cell_type": "code",
   "execution_count": 662,
   "metadata": {
    "scrolled": true
   },
   "outputs": [
    {
     "data": {
      "text/plain": [
       "Runs                  52\n",
       "BF                    40\n",
       "4s                     5\n",
       "6s                     0\n",
       "SR                   130\n",
       "Pos                    5\n",
       "Dismissal        not out\n",
       "Inns                   1\n",
       "Opposition    v Pakistan\n",
       "Ground           Sharjah\n",
       "Name: 1991-10-18 00:00:00, dtype: object"
      ]
     },
     "execution_count": 662,
     "metadata": {},
     "output_type": "execute_result"
    }
   ],
   "source": [
    "# Stats 2 - Innings vs Pakistan\n",
    "innings.loc['1991-10-18', :]"
   ]
  },
  {
   "cell_type": "markdown",
   "metadata": {},
   "source": [
    "**Phase II - Scene II - Rise of the Protagonist (1994-1997)**\n",
    "\n",
    "This was an exciting and interesting phase of Sachin's career when he was promoted as the opener in New Zealand in March 1994. It was at this position (batting at 1 and 2 as shown in Plot 2) that he truly came into his own and began the journey towards the freely scoring, aesthetically pleasing player we all know him to be.\n",
    "He thrashed the New Zealand bowlers in his first and third innings as an opener scoring a total of 122 runs at a strike rate of 160, quite unheard of at the time! (Stats 3)\n",
    "It was during 1994 that he scored the first ODI of his 49 centuries in his 79th match against Australia in Colombo. And, this century was followed by 3 consecutive ducks in his next three innings. An amusing quirk of fate! (Stats 4)\n",
    "\n",
    "Sachin's average improved significantly to mid-40s and strike rate to mid-80s. This was the phase which also gave us his blistering 523 runs at the 1996 World Cup (Stats 5). Sachin batted like a man possessed, a man on a mission, single-handedly carrying the team only for the team to collapse spectacularly once he got out on 65 chasing 251 in the semi-final against Sri Lanka at Eden Gardens (Kolkata). (Stats 6)\n",
    "\n",
    "It was a collective heart-break for a nation and a sign of things to come. It became a predictable pattern with him standing head and shoulders above others in a mediocre team. It was said that when Sachin came to bat, the country switched on television and switched off its life. But once he got out, the same country went back to business as usual as all hope seemed lost. He not just symbolised hope but he was hope. He defined the way our identity was formed as a nation in the 1990s. It was the decade where our economy had been opened to the external forces and we, as a nation, were trying to find our place in the world. We wanted to compete with rest of the world, we wanted to show the world our excellence at something, anything and Sachin was there."
   ]
  },
  {
   "cell_type": "code",
   "execution_count": 663,
   "metadata": {},
   "outputs": [
    {
     "data": {
      "text/plain": [
       "<matplotlib.axes._subplots.AxesSubplot at 0x26e148f59b0>"
      ]
     },
     "execution_count": 663,
     "metadata": {},
     "output_type": "execute_result"
    },
    {
     "data": {
      "image/png": "[encoded data removed]",
      "text/plain": [
       "<matplotlib.figure.Figure at 0x26e15e6a2b0>"
      ]
     },
     "metadata": {},
     "output_type": "display_data"
    }
   ],
   "source": [
    "# Plot 2: Phase II (1994-1997) Frequency by Position\n",
    "innings.loc['1994': '1997', 'Pos'].value_counts().plot(kind = 'bar', title = 'Frequency by Position (1994-1997)')"
   ]
  },
  {
   "cell_type": "code",
   "execution_count": 664,
   "metadata": {},
   "outputs": [
    {
     "name": "stdout",
     "output_type": "stream",
     "text": [
      "            Runs  BF  4s  6s      SR Pos Dismissal Inns     Opposition  \\\n",
      "Start Date                                                               \n",
      "1994-03-27    82  49  15   2  167.34   2    caught    2  v New Zealand   \n",
      "1994-03-30    63  75   9   0   84.00   2       lbw    1  v New Zealand   \n",
      "1994-04-02    40  26   8   0  153.84   2    bowled    1  v New Zealand   \n",
      "\n",
      "                  Ground  \n",
      "Start Date                \n",
      "1994-03-27      Auckland  \n",
      "1994-03-30    Wellington  \n",
      "1994-04-02  Christchurch   \n",
      "\n",
      "open_1994_avg:  61.67\n",
      "open_1994_strikerate:  123.33\n"
     ]
    }
   ],
   "source": [
    "# Stats 3: First, second and third innings vs New Zealand\n",
    "open_1994 = innings.loc['1994-03-27': '1994-04-02', :]\n",
    "open_1994_avg = round(open_1994.Runs.sum()/3, 2)\n",
    "open_1994_strikerate = round((open_1994.Runs.sum()/open_1994.BF.sum())*100, 2)\n",
    "print(open_1994, '\\n')\n",
    "print('open_1994_avg: ', open_1994_avg)\n",
    "print('open_1994_strikerate: ', open_1994_strikerate)"
   ]
  },
  {
   "cell_type": "code",
   "execution_count": 665,
   "metadata": {},
   "outputs": [
    {
     "data": {
      "text/html": [
       "<div>\n",
       "<style scoped>\n",
       "    .dataframe tbody tr th:only-of-type {\n",
       "        vertical-align: middle;\n",
       "    }\n",
       "\n",
       "    .dataframe tbody tr th {\n",
       "        vertical-align: top;\n",
       "    }\n",
       "\n",
       "    .dataframe thead th {\n",
       "        text-align: right;\n",
       "    }\n",
       "</style>\n",
       "<table border=\"1\" class=\"dataframe\">\n",
       "  <thead>\n",
       "    <tr style=\"text-align: right;\">\n",
       "      <th></th>\n",
       "      <th>Runs</th>\n",
       "      <th>BF</th>\n",
       "      <th>4s</th>\n",
       "      <th>6s</th>\n",
       "      <th>SR</th>\n",
       "      <th>Pos</th>\n",
       "      <th>Dismissal</th>\n",
       "      <th>Inns</th>\n",
       "      <th>Opposition</th>\n",
       "      <th>Ground</th>\n",
       "    </tr>\n",
       "    <tr>\n",
       "      <th>Start Date</th>\n",
       "      <th></th>\n",
       "      <th></th>\n",
       "      <th></th>\n",
       "      <th></th>\n",
       "      <th></th>\n",
       "      <th></th>\n",
       "      <th></th>\n",
       "      <th></th>\n",
       "      <th></th>\n",
       "      <th></th>\n",
       "    </tr>\n",
       "  </thead>\n",
       "  <tbody>\n",
       "    <tr>\n",
       "      <th>1994-09-09</th>\n",
       "      <td>110</td>\n",
       "      <td>130</td>\n",
       "      <td>8</td>\n",
       "      <td>2</td>\n",
       "      <td>84.61</td>\n",
       "      <td>2</td>\n",
       "      <td>bowled</td>\n",
       "      <td>1</td>\n",
       "      <td>v Australia</td>\n",
       "      <td>Colombo (RPS)</td>\n",
       "    </tr>\n",
       "    <tr>\n",
       "      <th>1994-09-17</th>\n",
       "      <td>0</td>\n",
       "      <td>2</td>\n",
       "      <td>0</td>\n",
       "      <td>0</td>\n",
       "      <td>0.00</td>\n",
       "      <td>2</td>\n",
       "      <td>caught</td>\n",
       "      <td>2</td>\n",
       "      <td>v Sri Lanka</td>\n",
       "      <td>Colombo (SSC)</td>\n",
       "    </tr>\n",
       "    <tr>\n",
       "      <th>1994-10-17</th>\n",
       "      <td>0</td>\n",
       "      <td>4</td>\n",
       "      <td>0</td>\n",
       "      <td>0</td>\n",
       "      <td>0.00</td>\n",
       "      <td>2</td>\n",
       "      <td>caught</td>\n",
       "      <td>2</td>\n",
       "      <td>v West Indies</td>\n",
       "      <td>Faridabad</td>\n",
       "    </tr>\n",
       "    <tr>\n",
       "      <th>1994-10-20</th>\n",
       "      <td>0</td>\n",
       "      <td>4</td>\n",
       "      <td>0</td>\n",
       "      <td>0</td>\n",
       "      <td>0.00</td>\n",
       "      <td>2</td>\n",
       "      <td>caught</td>\n",
       "      <td>2</td>\n",
       "      <td>v West Indies</td>\n",
       "      <td>Mumbai</td>\n",
       "    </tr>\n",
       "  </tbody>\n",
       "</table>\n",
       "</div>"
      ],
      "text/plain": [
       "            Runs   BF  4s  6s     SR Pos Dismissal Inns     Opposition  \\\n",
       "Start Date                                                               \n",
       "1994-09-09   110  130   8   2  84.61   2    bowled    1    v Australia   \n",
       "1994-09-17     0    2   0   0   0.00   2    caught    2    v Sri Lanka   \n",
       "1994-10-17     0    4   0   0   0.00   2    caught    2  v West Indies   \n",
       "1994-10-20     0    4   0   0   0.00   2    caught    2  v West Indies   \n",
       "\n",
       "                   Ground  \n",
       "Start Date                 \n",
       "1994-09-09  Colombo (RPS)  \n",
       "1994-09-17  Colombo (SSC)  \n",
       "1994-10-17      Faridabad  \n",
       "1994-10-20         Mumbai  "
      ]
     },
     "execution_count": 665,
     "metadata": {},
     "output_type": "execute_result"
    }
   ],
   "source": [
    "# Stats 4: First century and the three ducks\n",
    "innings['1994-09-09':'1994-10-20']"
   ]
  },
  {
   "cell_type": "code",
   "execution_count": 666,
   "metadata": {},
   "outputs": [
    {
     "name": "stdout",
     "output_type": "stream",
     "text": [
      "            Runs   BF  4s  6s      SR Pos Dismissal Inns     Opposition  \\\n",
      "Start Date                                                                \n",
      "1996-02-18   127  138  15   1   92.02   2   not out    2        v Kenya   \n",
      "1996-02-21    70   91   8   0   76.92   2   run out    2  v West Indies   \n",
      "1996-02-27    90   84  14   1  107.14   2   stumped    2    v Australia   \n",
      "1996-03-02   137  137   8   5  100.00   2   run out    1    v Sri Lanka   \n",
      "1996-03-06     3   12   0   0   25.00   1    bowled    1     v Zimbabwe   \n",
      "1996-03-09    31   59   3   0   52.54   2    bowled    1     v Pakistan   \n",
      "1996-03-13    65   88   9   0   73.86   1   stumped    2    v Sri Lanka   \n",
      "\n",
      "               Ground  \n",
      "Start Date             \n",
      "1996-02-18    Cuttack  \n",
      "1996-02-21    Gwalior  \n",
      "1996-02-27     Mumbai  \n",
      "1996-03-02      Delhi  \n",
      "1996-03-06     Kanpur  \n",
      "1996-03-09  Bengaluru  \n",
      "1996-03-13    Kolkata   \n",
      "\n",
      "wc_1996_runs:  523\n",
      "wc_1996_avg:  87.17\n"
     ]
    }
   ],
   "source": [
    "# Stats 5: 1996 World Cup\n",
    "wc_1996 = innings.loc['1996-02-18': '1996-03-13', :]\n",
    "notout_1996  = wc_1996[wc_1996.Dismissal == 'not out'].Dismissal.count()\n",
    "wc_1996_runs = wc_1996.Runs.sum()\n",
    "wc_1996_avg = round(wc_1996.Runs.sum()/(len(wc_1996) - notout_1996), 2)\n",
    "print(wc_1996,'\\n')\n",
    "print('wc_1996_runs: ', wc_1996_runs)\n",
    "print('wc_1996_avg: ', wc_1996_avg)"
   ]
  },
  {
   "cell_type": "code",
   "execution_count": 667,
   "metadata": {},
   "outputs": [
    {
     "data": {
      "text/plain": [
       "Runs                   65\n",
       "BF                     88\n",
       "4s                      9\n",
       "6s                      0\n",
       "SR                  73.86\n",
       "Pos                     1\n",
       "Dismissal         stumped\n",
       "Inns                    2\n",
       "Opposition    v Sri Lanka\n",
       "Ground            Kolkata\n",
       "Name: 1996-03-13 00:00:00, dtype: object"
      ]
     },
     "execution_count": 667,
     "metadata": {},
     "output_type": "execute_result"
    }
   ],
   "source": [
    "# Stats 6: Semi-final - World Cup 1996\n",
    "innings.loc['1996-03-13',  :]"
   ]
  },
  {
   "cell_type": "markdown",
   "metadata": {},
   "source": [
    "**Phase III - Scene III - God-mode! (1998-2003)**\n",
    "\n",
    "1998! The year with the most runs scored in a calendar year in ODIs. The year of the sandstorm, both literal and metaphorical. At times it felt as if he was pplaying the EA Sports Cricket of 2007 in easy mode. Pakistan, AUstralia, SriLanka, New Zealand - he thrashed them all. Scoring at an average of 65 and strike rate of 100+ (ASR score of 167), he blasted away 9 centuries this year - still a record for most number of centuries in a calendar year (Stats 7). \n",
    "\n",
    "Centuries kept coming thick and fast - a total of 24 in this phase with Sachin scoring a century once every 6.6 matches, an astounding output by any standards. (Stats 8)\n",
    "\n",
    "Sachin scoring heavily and India losing crunch matches - both became as predictable as day following night. We just did not have the bowling attack to back him up. It was like Messi with Argentina today. \n",
    "\n",
    "After a brief lull and dip in form (by his standards)in 2000 (ASR of 120) (Stats 9), he was back to his roaring best in 2001 (ASR of 160) (Stats 9). This was the phase where we were privileged to witness *that innings and that shot* against Pakistan in 2003 (Stats 10). Overall, this phase was the golden of his career where he scored at an average of 52+ and strike rate of 90 (ASR of 140) - a rate of scoring and consistency unmatched till the post-T20 contemporary era (Stats 8).\n",
    "\n",
    "Outside of him being at his best, things were also changing for Team India with another young charimatic captain at the helm and a new generation of talented and temperamentally sound cricketers coming through. This generation was the one who had grown up idolising him and watching Sachin take apart the best of bowling line-ups at will."
   ]
  },
  {
   "cell_type": "code",
   "execution_count": 668,
   "metadata": {},
   "outputs": [
    {
     "data": {
      "text/html": [
       "<div>\n",
       "<style scoped>\n",
       "    .dataframe tbody tr th:only-of-type {\n",
       "        vertical-align: middle;\n",
       "    }\n",
       "\n",
       "    .dataframe tbody tr th {\n",
       "        vertical-align: top;\n",
       "    }\n",
       "\n",
       "    .dataframe thead th {\n",
       "        text-align: right;\n",
       "    }\n",
       "</style>\n",
       "<table border=\"1\" class=\"dataframe\">\n",
       "  <thead>\n",
       "    <tr style=\"text-align: right;\">\n",
       "      <th></th>\n",
       "      <th>Runs</th>\n",
       "      <th>BF</th>\n",
       "      <th>Matches</th>\n",
       "      <th>NotOut</th>\n",
       "      <th>Out</th>\n",
       "      <th>Average</th>\n",
       "      <th>SR</th>\n",
       "      <th>Avg_SR</th>\n",
       "      <th>100s</th>\n",
       "    </tr>\n",
       "    <tr>\n",
       "      <th>Year</th>\n",
       "      <th></th>\n",
       "      <th></th>\n",
       "      <th></th>\n",
       "      <th></th>\n",
       "      <th></th>\n",
       "      <th></th>\n",
       "      <th></th>\n",
       "      <th></th>\n",
       "      <th></th>\n",
       "    </tr>\n",
       "  </thead>\n",
       "  <tbody>\n",
       "    <tr>\n",
       "      <th>1998-01-01</th>\n",
       "      <td>1894</td>\n",
       "      <td>1854</td>\n",
       "      <td>33</td>\n",
       "      <td>4</td>\n",
       "      <td>29</td>\n",
       "      <td>65.31</td>\n",
       "      <td>102.2</td>\n",
       "      <td>167.51</td>\n",
       "      <td>9</td>\n",
       "    </tr>\n",
       "  </tbody>\n",
       "</table>\n",
       "</div>"
      ],
      "text/plain": [
       "            Runs    BF  Matches  NotOut  Out  Average     SR  Avg_SR  100s\n",
       "Year                                                                      \n",
       "1998-01-01  1894  1854       33       4   29    65.31  102.2  167.51     9"
      ]
     },
     "execution_count": 668,
     "metadata": {},
     "output_type": "execute_result"
    }
   ],
   "source": [
    "# Stats 7: The legend of the year 1998\n",
    "yearly_df['1998']"
   ]
  },
  {
   "cell_type": "code",
   "execution_count": 669,
   "metadata": {},
   "outputs": [
    {
     "data": {
      "text/plain": [
       "Average                51.43\n",
       "SR                     89.25\n",
       "ASR                   140.68\n",
       "Runs                 7663.00\n",
       "Matches               166.00\n",
       "Runs_1000               7.00\n",
       "Match_per_Century       6.60\n",
       "Name: Phase_III, dtype: float64"
      ]
     },
     "execution_count": 669,
     "metadata": {},
     "output_type": "execute_result"
    }
   ],
   "source": [
    "# Stats 8: Phase III (1998-2003) God-mode with 1 century every 6.6 matches! \n",
    "phase_df.loc['Phase_III',:]"
   ]
  },
  {
   "cell_type": "code",
   "execution_count": 670,
   "metadata": {},
   "outputs": [
    {
     "data": {
      "text/html": [
       "<div>\n",
       "<style scoped>\n",
       "    .dataframe tbody tr th:only-of-type {\n",
       "        vertical-align: middle;\n",
       "    }\n",
       "\n",
       "    .dataframe tbody tr th {\n",
       "        vertical-align: top;\n",
       "    }\n",
       "\n",
       "    .dataframe thead th {\n",
       "        text-align: right;\n",
       "    }\n",
       "</style>\n",
       "<table border=\"1\" class=\"dataframe\">\n",
       "  <thead>\n",
       "    <tr style=\"text-align: right;\">\n",
       "      <th></th>\n",
       "      <th>Runs</th>\n",
       "      <th>BF</th>\n",
       "      <th>Matches</th>\n",
       "      <th>NotOut</th>\n",
       "      <th>Out</th>\n",
       "      <th>Average</th>\n",
       "      <th>SR</th>\n",
       "      <th>Avg_SR</th>\n",
       "      <th>100s</th>\n",
       "    </tr>\n",
       "    <tr>\n",
       "      <th>Year</th>\n",
       "      <th></th>\n",
       "      <th></th>\n",
       "      <th></th>\n",
       "      <th></th>\n",
       "      <th></th>\n",
       "      <th></th>\n",
       "      <th></th>\n",
       "      <th></th>\n",
       "      <th></th>\n",
       "    </tr>\n",
       "  </thead>\n",
       "  <tbody>\n",
       "    <tr>\n",
       "      <th>2000-01-01</th>\n",
       "      <td>1328</td>\n",
       "      <td>1624</td>\n",
       "      <td>34</td>\n",
       "      <td>0</td>\n",
       "      <td>34</td>\n",
       "      <td>39.06</td>\n",
       "      <td>81.8</td>\n",
       "      <td>120.86</td>\n",
       "      <td>3</td>\n",
       "    </tr>\n",
       "    <tr>\n",
       "      <th>2001-01-01</th>\n",
       "      <td>904</td>\n",
       "      <td>990</td>\n",
       "      <td>16</td>\n",
       "      <td>3</td>\n",
       "      <td>13</td>\n",
       "      <td>69.54</td>\n",
       "      <td>91.3</td>\n",
       "      <td>160.84</td>\n",
       "      <td>4</td>\n",
       "    </tr>\n",
       "  </tbody>\n",
       "</table>\n",
       "</div>"
      ],
      "text/plain": [
       "            Runs    BF  Matches  NotOut  Out  Average    SR  Avg_SR  100s\n",
       "Year                                                                     \n",
       "2000-01-01  1328  1624       34       0   34    39.06  81.8  120.86     3\n",
       "2001-01-01   904   990       16       3   13    69.54  91.3  160.84     4"
      ]
     },
     "execution_count": 670,
     "metadata": {},
     "output_type": "execute_result"
    }
   ],
   "source": [
    "# Stats 9: The year 2000 and 2001\n",
    "yearly_df['2000':'2001']"
   ]
  },
  {
   "cell_type": "code",
   "execution_count": 671,
   "metadata": {},
   "outputs": [
    {
     "data": {
      "text/plain": [
       "Runs                  98\n",
       "BF                    75\n",
       "4s                    12\n",
       "6s                     1\n",
       "SR                130.66\n",
       "Pos                    1\n",
       "Dismissal         caught\n",
       "Inns                   2\n",
       "Opposition    v Pakistan\n",
       "Ground         Centurion\n",
       "Name: 2003-03-01 00:00:00, dtype: object"
      ]
     },
     "execution_count": 671,
     "metadata": {},
     "output_type": "execute_result"
    }
   ],
   "source": [
    "# Stats 10: THAT innings vs Pakistan at World Cup 2003 where Sachin hit Akhtar for THAT six\n",
    "innings.loc['2003-03-01', :]"
   ]
  },
  {
   "cell_type": "markdown",
   "metadata": {},
   "source": [
    "**Phase IV - Scene IV - Catastrophe (2004-2006)** \n",
    "\n",
    "Towards the end of 2004 and beginning of 2005, something appeared to be amiss. He was suffering from a significant dip in form with scores of 16, 19, 47, 4, 2, 6, 123, 1, 9 (Stats 11). It was the year when the Indian households were introduced to the term 'Tennis-elbow'. Everyone became a medical expert overnight and had their own remedies to cure the maestro. It was almost like a Greek tragedy - the protagonist at his most prosperous suffers a complete reversal of fortune - peripeteia. He was out with this injury for a significant amount of time and he himself has said that he feare his playing days were over.\n",
    "This illustrates this dark phase of his career where his average fell to low 30s and strike rate below 80, number unseen since his initial days. In fact, in 2005, he averaged barely 30 and his ASR was just 104 (Stats 12). Sachin was 32 years old at the time and few gave him the chance to recover make a successful comeback. But he did heal and made a strong comeback."
   ]
  },
  {
   "cell_type": "code",
   "execution_count": 672,
   "metadata": {},
   "outputs": [
    {
     "name": "stdout",
     "output_type": "stream",
     "text": [
      "            Runs   BF  4s  6s      SR Pos Dismissal Inns    Opposition  \\\n",
      "Start Date                                                               \n",
      "2004-11-13    16   17   2   0   94.11   2   run out    1    v Pakistan   \n",
      "2004-12-23    19   32   3   0   59.37   2    caught    1  v Bangladesh   \n",
      "2004-12-27    47   42   9   0  111.90   2    caught    1  v Bangladesh   \n",
      "2005-04-02     4    4   1   0  100.00   2    caught    1    v Pakistan   \n",
      "2005-04-05     2    8   0   0   25.00   2   run out    1    v Pakistan   \n",
      "2005-04-09     6   11   1   0   54.54   2    caught    2    v Pakistan   \n",
      "2005-04-12   123  130  12   2   94.61   2    bowled    1    v Pakistan   \n",
      "2005-04-15     1   10   0   0   10.00   2    caught    1    v Pakistan   \n",
      "2005-04-17     9   15   0   0   60.00   2    bowled    2    v Pakistan   \n",
      "\n",
      "                   Ground  \n",
      "Start Date                 \n",
      "2004-11-13        Kolkata  \n",
      "2004-12-23     Chittagong  \n",
      "2004-12-27          Dhaka  \n",
      "2005-04-02          Kochi  \n",
      "2005-04-05  Visakhapatnam  \n",
      "2005-04-09     Jamshedpur  \n",
      "2005-04-12      Ahmedabad  \n",
      "2005-04-15         Kanpur  \n",
      "2005-04-17          Delhi   \n",
      "\n",
      "Struggling for runs:  227\n",
      "Average:  25.22\n"
     ]
    }
   ],
   "source": [
    "# Stats 11: Tennis-elbow!\n",
    "struggle = innings.loc['2004-11-13': '2005-04-17', :]\n",
    "struggle_runs = struggle.Runs.sum()\n",
    "struggle_notout = struggle[struggle.Dismissal == 'not out']\n",
    "struggle_avg = round(struggle_runs/len(struggle)-len(struggle_notout), 2)\n",
    "print(struggle, '\\n')\n",
    "print('Struggling for runs: ', struggle_runs)\n",
    "print('Average: ', struggle_avg)"
   ]
  },
  {
   "cell_type": "code",
   "execution_count": 673,
   "metadata": {},
   "outputs": [
    {
     "data": {
      "text/html": [
       "<div>\n",
       "<style scoped>\n",
       "    .dataframe tbody tr th:only-of-type {\n",
       "        vertical-align: middle;\n",
       "    }\n",
       "\n",
       "    .dataframe tbody tr th {\n",
       "        vertical-align: top;\n",
       "    }\n",
       "\n",
       "    .dataframe thead th {\n",
       "        text-align: right;\n",
       "    }\n",
       "</style>\n",
       "<table border=\"1\" class=\"dataframe\">\n",
       "  <thead>\n",
       "    <tr style=\"text-align: right;\">\n",
       "      <th></th>\n",
       "      <th>Runs</th>\n",
       "      <th>BF</th>\n",
       "      <th>Matches</th>\n",
       "      <th>NotOut</th>\n",
       "      <th>Out</th>\n",
       "      <th>Average</th>\n",
       "      <th>SR</th>\n",
       "      <th>Avg_SR</th>\n",
       "      <th>100s</th>\n",
       "    </tr>\n",
       "    <tr>\n",
       "      <th>Year</th>\n",
       "      <th></th>\n",
       "      <th></th>\n",
       "      <th></th>\n",
       "      <th></th>\n",
       "      <th></th>\n",
       "      <th></th>\n",
       "      <th></th>\n",
       "      <th></th>\n",
       "      <th></th>\n",
       "    </tr>\n",
       "  </thead>\n",
       "  <tbody>\n",
       "    <tr>\n",
       "      <th>2005-01-01</th>\n",
       "      <td>412</td>\n",
       "      <td>533</td>\n",
       "      <td>16</td>\n",
       "      <td>1</td>\n",
       "      <td>15</td>\n",
       "      <td>27.47</td>\n",
       "      <td>77.3</td>\n",
       "      <td>104.77</td>\n",
       "      <td>1</td>\n",
       "    </tr>\n",
       "  </tbody>\n",
       "</table>\n",
       "</div>"
      ],
      "text/plain": [
       "            Runs   BF  Matches  NotOut  Out  Average    SR  Avg_SR  100s\n",
       "Year                                                                    \n",
       "2005-01-01   412  533       16       1   15    27.47  77.3  104.77     1"
      ]
     },
     "execution_count": 673,
     "metadata": {},
     "output_type": "execute_result"
    }
   ],
   "source": [
    "# Stats 12: 2005\n",
    "yearly_df['2005']"
   ]
  },
  {
   "cell_type": "markdown",
   "metadata": {},
   "source": [
    "**Phase V - Scene V - Catharsis(2007-2012)**\n",
    "\n",
    "2007! The year of Caribbean World Cup disaster for the ODI team.\n",
    "But for Sachin, it was a year of personal success as he bounced back from the dip in form and started scoring freely again. Compared to his 1998 self, his strike rate had dropped slighlty but he was more consistent. It was also a tragic-comic year for him in a sense that nervous 90s bit him 6 times in 2007 with three scores of 99 (Stats 13)! Sachin's ASR soared again to 133 in 2007 and 145 in 2009 where he averaged 50+ with strike rate of 90+ as he made 972 runs and 3 centuries (Stats 14). This exceptional form on his second coming culminated in pinnacle of his individual achievements when he became the first batsman to breach the seemingly impossible double-century(200) barrier in One Day cricket.\n",
    "Along the way, 2008 gave us two of his most cherished performances where he ensured India won the CB Series on Australian soil.\n",
    "\n",
    "And who can forget the 2011 World Cup triumph where he scored 482 runs with 2 centuries and the critical 85 in semi-final which helped us defeat Pakistan. And as the cliche goes, rest is history!"
   ]
  },
  {
   "cell_type": "code",
   "execution_count": 674,
   "metadata": {},
   "outputs": [
    {
     "name": "stderr",
     "output_type": "stream",
     "text": [
      "C:\\Anaconda3\\lib\\site-packages\\ipykernel_launcher.py:3: UserWarning: Boolean Series key will be reindexed to match DataFrame index.\n",
      "  This is separate from the ipykernel package so we can avoid doing imports until\n"
     ]
    },
    {
     "data": {
      "text/html": [
       "<div>\n",
       "<style scoped>\n",
       "    .dataframe tbody tr th:only-of-type {\n",
       "        vertical-align: middle;\n",
       "    }\n",
       "\n",
       "    .dataframe tbody tr th {\n",
       "        vertical-align: top;\n",
       "    }\n",
       "\n",
       "    .dataframe thead th {\n",
       "        text-align: right;\n",
       "    }\n",
       "</style>\n",
       "<table border=\"1\" class=\"dataframe\">\n",
       "  <thead>\n",
       "    <tr style=\"text-align: right;\">\n",
       "      <th></th>\n",
       "      <th>Runs</th>\n",
       "      <th>BF</th>\n",
       "      <th>4s</th>\n",
       "      <th>6s</th>\n",
       "      <th>SR</th>\n",
       "      <th>Pos</th>\n",
       "      <th>Dismissal</th>\n",
       "      <th>Inns</th>\n",
       "      <th>Opposition</th>\n",
       "      <th>Ground</th>\n",
       "    </tr>\n",
       "    <tr>\n",
       "      <th>Start Date</th>\n",
       "      <th></th>\n",
       "      <th></th>\n",
       "      <th></th>\n",
       "      <th></th>\n",
       "      <th></th>\n",
       "      <th></th>\n",
       "      <th></th>\n",
       "      <th></th>\n",
       "      <th></th>\n",
       "      <th></th>\n",
       "    </tr>\n",
       "  </thead>\n",
       "  <tbody>\n",
       "    <tr>\n",
       "      <th>2007-06-26</th>\n",
       "      <td>99</td>\n",
       "      <td>143</td>\n",
       "      <td>12</td>\n",
       "      <td>0</td>\n",
       "      <td>69.23</td>\n",
       "      <td>2</td>\n",
       "      <td>run out</td>\n",
       "      <td>1</td>\n",
       "      <td>v South Africa</td>\n",
       "      <td>Belfast</td>\n",
       "    </tr>\n",
       "    <tr>\n",
       "      <th>2007-06-29</th>\n",
       "      <td>93</td>\n",
       "      <td>106</td>\n",
       "      <td>13</td>\n",
       "      <td>2</td>\n",
       "      <td>87.73</td>\n",
       "      <td>2</td>\n",
       "      <td>bowled</td>\n",
       "      <td>2</td>\n",
       "      <td>v South Africa</td>\n",
       "      <td>Belfast</td>\n",
       "    </tr>\n",
       "    <tr>\n",
       "      <th>2007-08-24</th>\n",
       "      <td>99</td>\n",
       "      <td>112</td>\n",
       "      <td>15</td>\n",
       "      <td>1</td>\n",
       "      <td>88.39</td>\n",
       "      <td>2</td>\n",
       "      <td>caught</td>\n",
       "      <td>1</td>\n",
       "      <td>v England</td>\n",
       "      <td>Bristol</td>\n",
       "    </tr>\n",
       "    <tr>\n",
       "      <th>2007-09-05</th>\n",
       "      <td>94</td>\n",
       "      <td>81</td>\n",
       "      <td>16</td>\n",
       "      <td>1</td>\n",
       "      <td>116.04</td>\n",
       "      <td>2</td>\n",
       "      <td>caught</td>\n",
       "      <td>2</td>\n",
       "      <td>v England</td>\n",
       "      <td>The Oval</td>\n",
       "    </tr>\n",
       "    <tr>\n",
       "      <th>2007-11-08</th>\n",
       "      <td>99</td>\n",
       "      <td>91</td>\n",
       "      <td>14</td>\n",
       "      <td>1</td>\n",
       "      <td>108.79</td>\n",
       "      <td>2</td>\n",
       "      <td>caught</td>\n",
       "      <td>1</td>\n",
       "      <td>v Pakistan</td>\n",
       "      <td>Mohali</td>\n",
       "    </tr>\n",
       "    <tr>\n",
       "      <th>2007-11-15</th>\n",
       "      <td>97</td>\n",
       "      <td>102</td>\n",
       "      <td>16</td>\n",
       "      <td>0</td>\n",
       "      <td>95.09</td>\n",
       "      <td>2</td>\n",
       "      <td>bowled</td>\n",
       "      <td>2</td>\n",
       "      <td>v Pakistan</td>\n",
       "      <td>Gwalior</td>\n",
       "    </tr>\n",
       "  </tbody>\n",
       "</table>\n",
       "</div>"
      ],
      "text/plain": [
       "            Runs   BF  4s  6s      SR Pos Dismissal Inns      Opposition  \\\n",
       "Start Date                                                                 \n",
       "2007-06-26    99  143  12   0   69.23   2   run out    1  v South Africa   \n",
       "2007-06-29    93  106  13   2   87.73   2    bowled    2  v South Africa   \n",
       "2007-08-24    99  112  15   1   88.39   2    caught    1       v England   \n",
       "2007-09-05    94   81  16   1  116.04   2    caught    2       v England   \n",
       "2007-11-08    99   91  14   1  108.79   2    caught    1      v Pakistan   \n",
       "2007-11-15    97  102  16   0   95.09   2    bowled    2      v Pakistan   \n",
       "\n",
       "              Ground  \n",
       "Start Date            \n",
       "2007-06-26   Belfast  \n",
       "2007-06-29   Belfast  \n",
       "2007-08-24   Bristol  \n",
       "2007-09-05  The Oval  \n",
       "2007-11-08    Mohali  \n",
       "2007-11-15   Gwalior  "
      ]
     },
     "execution_count": 674,
     "metadata": {},
     "output_type": "execute_result"
    }
   ],
   "source": [
    "# Stats 13: The Nervous Nineties!\n",
    "innings_2007 = innings['2007']\n",
    "nervous_90s = innings_2007[(innings.Runs > 89) & (innings.Runs < 100)]\n",
    "nervous_90s"
   ]
  },
  {
   "cell_type": "code",
   "execution_count": 675,
   "metadata": {},
   "outputs": [
    {
     "data": {
      "text/html": [
       "<div>\n",
       "<style scoped>\n",
       "    .dataframe tbody tr th:only-of-type {\n",
       "        vertical-align: middle;\n",
       "    }\n",
       "\n",
       "    .dataframe tbody tr th {\n",
       "        vertical-align: top;\n",
       "    }\n",
       "\n",
       "    .dataframe thead th {\n",
       "        text-align: right;\n",
       "    }\n",
       "</style>\n",
       "<table border=\"1\" class=\"dataframe\">\n",
       "  <thead>\n",
       "    <tr style=\"text-align: right;\">\n",
       "      <th></th>\n",
       "      <th>Runs</th>\n",
       "      <th>BF</th>\n",
       "      <th>Matches</th>\n",
       "      <th>NotOut</th>\n",
       "      <th>Out</th>\n",
       "      <th>Average</th>\n",
       "      <th>SR</th>\n",
       "      <th>Avg_SR</th>\n",
       "      <th>100s</th>\n",
       "    </tr>\n",
       "    <tr>\n",
       "      <th>Year</th>\n",
       "      <th></th>\n",
       "      <th></th>\n",
       "      <th></th>\n",
       "      <th></th>\n",
       "      <th></th>\n",
       "      <th></th>\n",
       "      <th></th>\n",
       "      <th></th>\n",
       "      <th></th>\n",
       "    </tr>\n",
       "  </thead>\n",
       "  <tbody>\n",
       "    <tr>\n",
       "      <th>2007-01-01</th>\n",
       "      <td>1425</td>\n",
       "      <td>1665</td>\n",
       "      <td>32</td>\n",
       "      <td>2</td>\n",
       "      <td>30</td>\n",
       "      <td>47.50</td>\n",
       "      <td>85.6</td>\n",
       "      <td>133.10</td>\n",
       "      <td>1</td>\n",
       "    </tr>\n",
       "    <tr>\n",
       "      <th>2008-01-01</th>\n",
       "      <td>460</td>\n",
       "      <td>546</td>\n",
       "      <td>12</td>\n",
       "      <td>1</td>\n",
       "      <td>11</td>\n",
       "      <td>41.82</td>\n",
       "      <td>84.2</td>\n",
       "      <td>126.02</td>\n",
       "      <td>1</td>\n",
       "    </tr>\n",
       "    <tr>\n",
       "      <th>2009-01-01</th>\n",
       "      <td>972</td>\n",
       "      <td>1034</td>\n",
       "      <td>20</td>\n",
       "      <td>1</td>\n",
       "      <td>19</td>\n",
       "      <td>51.16</td>\n",
       "      <td>94.0</td>\n",
       "      <td>145.16</td>\n",
       "      <td>3</td>\n",
       "    </tr>\n",
       "    <tr>\n",
       "      <th>2010-01-01</th>\n",
       "      <td>204</td>\n",
       "      <td>152</td>\n",
       "      <td>2</td>\n",
       "      <td>1</td>\n",
       "      <td>1</td>\n",
       "      <td>204.00</td>\n",
       "      <td>134.2</td>\n",
       "      <td>338.20</td>\n",
       "      <td>1</td>\n",
       "    </tr>\n",
       "  </tbody>\n",
       "</table>\n",
       "</div>"
      ],
      "text/plain": [
       "            Runs    BF  Matches  NotOut  Out  Average     SR  Avg_SR  100s\n",
       "Year                                                                      \n",
       "2007-01-01  1425  1665       32       2   30    47.50   85.6  133.10     1\n",
       "2008-01-01   460   546       12       1   11    41.82   84.2  126.02     1\n",
       "2009-01-01   972  1034       20       1   19    51.16   94.0  145.16     3\n",
       "2010-01-01   204   152        2       1    1   204.00  134.2  338.20     1"
      ]
     },
     "execution_count": 675,
     "metadata": {},
     "output_type": "execute_result"
    }
   ],
   "source": [
    "# Stats 14: The Second Coming\n",
    "yearly_df['2007':'2010']"
   ]
  },
  {
   "cell_type": "markdown",
   "metadata": {},
   "source": [
    "**Conclusion**\n",
    "This concludes a simple analysis of Sachin's career by innings and years. I will conclude with a brief comparison of all the phases of Sachin's career and a plot depicting the same (Average, Strike Rate (SR), ASR (Average + Strike Rate), Match per Century.\n",
    "\n",
    "It is understandable that statistical frames and numebrs alone cannot capture the genius of the little master. In this case, numbers jst help validate what we all know."
   ]
  },
  {
   "cell_type": "code",
   "execution_count": 676,
   "metadata": {},
   "outputs": [
    {
     "data": {
      "text/html": [
       "<div>\n",
       "<style scoped>\n",
       "    .dataframe tbody tr th:only-of-type {\n",
       "        vertical-align: middle;\n",
       "    }\n",
       "\n",
       "    .dataframe tbody tr th {\n",
       "        vertical-align: top;\n",
       "    }\n",
       "\n",
       "    .dataframe thead th {\n",
       "        text-align: right;\n",
       "    }\n",
       "</style>\n",
       "<table border=\"1\" class=\"dataframe\">\n",
       "  <thead>\n",
       "    <tr style=\"text-align: right;\">\n",
       "      <th></th>\n",
       "      <th>Average</th>\n",
       "      <th>SR</th>\n",
       "      <th>ASR</th>\n",
       "      <th>Runs</th>\n",
       "      <th>Matches</th>\n",
       "      <th>Runs_1000</th>\n",
       "      <th>Match_per_Century</th>\n",
       "    </tr>\n",
       "    <tr>\n",
       "      <th>Phase</th>\n",
       "      <th></th>\n",
       "      <th></th>\n",
       "      <th></th>\n",
       "      <th></th>\n",
       "      <th></th>\n",
       "      <th></th>\n",
       "      <th></th>\n",
       "    </tr>\n",
       "  </thead>\n",
       "  <tbody>\n",
       "    <tr>\n",
       "      <th>Phase_I</th>\n",
       "      <td>31.68</td>\n",
       "      <td>74.32</td>\n",
       "      <td>106.00</td>\n",
       "      <td>1679</td>\n",
       "      <td>62</td>\n",
       "      <td>1</td>\n",
       "      <td>NaN</td>\n",
       "    </tr>\n",
       "    <tr>\n",
       "      <th>Phase_II</th>\n",
       "      <td>43.28</td>\n",
       "      <td>86.36</td>\n",
       "      <td>129.64</td>\n",
       "      <td>4155</td>\n",
       "      <td>105</td>\n",
       "      <td>3</td>\n",
       "      <td>8.8</td>\n",
       "    </tr>\n",
       "    <tr>\n",
       "      <th>Phase_III</th>\n",
       "      <td>51.43</td>\n",
       "      <td>89.25</td>\n",
       "      <td>140.68</td>\n",
       "      <td>7663</td>\n",
       "      <td>166</td>\n",
       "      <td>7</td>\n",
       "      <td>6.6</td>\n",
       "    </tr>\n",
       "    <tr>\n",
       "      <th>Phase_IV</th>\n",
       "      <td>37.14</td>\n",
       "      <td>77.15</td>\n",
       "      <td>114.29</td>\n",
       "      <td>1040</td>\n",
       "      <td>32</td>\n",
       "      <td>1</td>\n",
       "      <td>10.7</td>\n",
       "    </tr>\n",
       "    <tr>\n",
       "      <th>Phase_V</th>\n",
       "      <td>48.01</td>\n",
       "      <td>89.14</td>\n",
       "      <td>137.15</td>\n",
       "      <td>3889</td>\n",
       "      <td>87</td>\n",
       "      <td>3</td>\n",
       "      <td>9.7</td>\n",
       "    </tr>\n",
       "  </tbody>\n",
       "</table>\n",
       "</div>"
      ],
      "text/plain": [
       "           Average     SR     ASR  Runs  Matches  Runs_1000  Match_per_Century\n",
       "Phase                                                                         \n",
       "Phase_I      31.68  74.32  106.00  1679       62          1                NaN\n",
       "Phase_II     43.28  86.36  129.64  4155      105          3                8.8\n",
       "Phase_III    51.43  89.25  140.68  7663      166          7                6.6\n",
       "Phase_IV     37.14  77.15  114.29  1040       32          1               10.7\n",
       "Phase_V      48.01  89.14  137.15  3889       87          3                9.7"
      ]
     },
     "execution_count": 676,
     "metadata": {},
     "output_type": "execute_result"
    }
   ],
   "source": [
    "phase_df"
   ]
  },
  {
   "cell_type": "code",
   "execution_count": 677,
   "metadata": {},
   "outputs": [
    {
     "data": {
      "text/plain": [
       "<matplotlib.axes._subplots.AxesSubplot at 0x26e15ec93c8>"
      ]
     },
     "execution_count": 677,
     "metadata": {},
     "output_type": "execute_result"
    },
    {
     "data": {
      "image/png": "[encoded data removed]",
      "text/plain": [
       "<matplotlib.figure.Figure at 0x26e15ef0048>"
      ]
     },
     "metadata": {},
     "output_type": "display_data"
    }
   ],
   "source": [
    "phase_df.Average.plot(kind = 'bar', title = 'Average across Phases')"
   ]
  },
  {
   "cell_type": "code",
   "execution_count": 678,
   "metadata": {},
   "outputs": [
    {
     "data": {
      "text/plain": [
       "<matplotlib.axes._subplots.AxesSubplot at 0x26e15e3ada0>"
      ]
     },
     "execution_count": 678,
     "metadata": {},
     "output_type": "execute_result"
    },
    {
     "data": {
      "image/png": "[encoded data removed]",
      "text/plain": [
       "<matplotlib.figure.Figure at 0x26e15f457b8>"
      ]
     },
     "metadata": {},
     "output_type": "display_data"
    }
   ],
   "source": [
    "phase_df.SR.plot(kind = 'bar', title = 'Strike Rate across Phases')"
   ]
  },
  {
   "cell_type": "code",
   "execution_count": 679,
   "metadata": {},
   "outputs": [
    {
     "data": {
      "text/plain": [
       "<matplotlib.axes._subplots.AxesSubplot at 0x26e15fdfe48>"
      ]
     },
     "execution_count": 679,
     "metadata": {},
     "output_type": "execute_result"
    },
    {
     "data": {
      "image/png": "[encoded data removed]",
      "text/plain": [
       "<matplotlib.figure.Figure at 0x26e15f94630>"
      ]
     },
     "metadata": {},
     "output_type": "display_data"
    }
   ],
   "source": [
    "phase_df.ASR.plot(kind = 'bar', title = 'ASR across Phases')"
   ]
  },
  {
   "cell_type": "code",
   "execution_count": 680,
   "metadata": {},
   "outputs": [
    {
     "data": {
      "text/plain": [
       "<matplotlib.axes._subplots.AxesSubplot at 0x26e15fa5208>"
      ]
     },
     "execution_count": 680,
     "metadata": {},
     "output_type": "execute_result"
    },
    {
     "data": {
      "image/png": "[encoded data removed]",
      "text/plain": [
       "<matplotlib.figure.Figure at 0x26e160082b0>"
      ]
     },
     "metadata": {},
     "output_type": "display_data"
    }
   ],
   "source": [
    "phase_df.Match_per_Century.plot(kind = 'bar', title = 'Match per Century across Phases')"
   ]
  }
 ],
 "metadata": {
  "kernelspec": {
   "display_name": "Python 3",
   "language": "python",
   "name": "python3"
  },
  "language_info": {
   "codemirror_mode": {
    "name": "ipython",
    "version": 3
   },
   "file_extension": ".py",
   "mimetype": "text/x-python",
   "name": "python",
   "nbconvert_exporter": "python",
   "pygments_lexer": "ipython3",
   "version": "3.6.4"
  }
 },
 "nbformat": 4,
 "nbformat_minor": 2
}
